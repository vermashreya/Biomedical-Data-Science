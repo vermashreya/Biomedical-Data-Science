{
  "nbformat": 4,
  "nbformat_minor": 0,
  "metadata": {
    "anaconda-cloud": {},
    "kernelspec": {
      "display_name": "Python [conda env:bme6938]",
      "language": "python",
      "name": "conda-env-bme6938-py"
    },
    "language_info": {
      "codemirror_mode": {
        "name": "ipython",
        "version": 3
      },
      "file_extension": ".py",
      "mimetype": "text/x-python",
      "name": "python",
      "nbconvert_exporter": "python",
      "pygments_lexer": "ipython3",
      "version": "3.5.2"
    },
    "colab": {
      "name": "SimpleFC.ipynb",
      "provenance": [],
      "collapsed_sections": []
    }
  },
  "cells": [
    {
      "cell_type": "code",
      "metadata": {
        "id": "jEm66gCjH75e",
        "colab_type": "code",
        "colab": {}
      },
      "source": [
        "from keras.models import Sequential\n",
        "from keras.layers import Dense\n",
        "import pandas as pd\n",
        "from sklearn.model_selection import train_test_split\n",
        "import numpy"
      ],
      "execution_count": 0,
      "outputs": []
    },
    {
      "cell_type": "code",
      "metadata": {
        "id": "f8tFrt84H75k",
        "colab_type": "code",
        "colab": {}
      },
      "source": [
        "# fix random seed for reproducibility\n",
        "seed = 7\n",
        "numpy.random.seed(seed)"
      ],
      "execution_count": 0,
      "outputs": []
    },
    {
      "cell_type": "code",
      "metadata": {
        "id": "VxsXurqP1jpF",
        "colab_type": "code",
        "outputId": "eb905d04-a05c-46e1-bcde-b536f9462dab",
        "colab": {
          "base_uri": "https://localhost:8080/",
          "height": 124
        }
      },
      "source": [
        "from google.colab import drive \n",
        "drive.mount('/content/drive')"
      ],
      "execution_count": 10,
      "outputs": [
        {
          "output_type": "stream",
          "text": [
            "Go to this URL in a browser: https://accounts.google.com/o/oauth2/auth?client_id=947318989803-6bn6qk8qdgf4n4g3pfee6491hc0brc4i.apps.googleusercontent.com&redirect_uri=urn%3Aietf%3Awg%3Aoauth%3A2.0%3Aoob&scope=email%20https%3A%2F%2Fwww.googleapis.com%2Fauth%2Fdocs.test%20https%3A%2F%2Fwww.googleapis.com%2Fauth%2Fdrive%20https%3A%2F%2Fwww.googleapis.com%2Fauth%2Fdrive.photos.readonly%20https%3A%2F%2Fwww.googleapis.com%2Fauth%2Fpeopleapi.readonly&response_type=code\n",
            "\n",
            "Enter your authorization code:\n",
            "··········\n",
            "Mounted at /content/drive\n"
          ],
          "name": "stdout"
        }
      ]
    },
    {
      "cell_type": "code",
      "metadata": {
        "id": "DXoZ1VjXx8YU",
        "colab_type": "code",
        "colab": {}
      },
      "source": [
        "df = pd.read_csv('drive/My Drive/Colab Notebooks/7 - NN/data.csv')"
      ],
      "execution_count": 0,
      "outputs": []
    },
    {
      "cell_type": "code",
      "metadata": {
        "id": "zIkJxYv8H75o",
        "colab_type": "code",
        "colab": {
          "base_uri": "https://localhost:8080/",
          "height": 202
        },
        "outputId": "21b05229-3196-4969-aa3e-2dc543e654ef"
      },
      "source": [
        "df.head()"
      ],
      "execution_count": 12,
      "outputs": [
        {
          "output_type": "execute_result",
          "data": {
            "text/html": [
              "<div>\n",
              "<style scoped>\n",
              "    .dataframe tbody tr th:only-of-type {\n",
              "        vertical-align: middle;\n",
              "    }\n",
              "\n",
              "    .dataframe tbody tr th {\n",
              "        vertical-align: top;\n",
              "    }\n",
              "\n",
              "    .dataframe thead th {\n",
              "        text-align: right;\n",
              "    }\n",
              "</style>\n",
              "<table border=\"1\" class=\"dataframe\">\n",
              "  <thead>\n",
              "    <tr style=\"text-align: right;\">\n",
              "      <th></th>\n",
              "      <th>Pregnancies</th>\n",
              "      <th>Glucose</th>\n",
              "      <th>BloodPressure</th>\n",
              "      <th>SkinThickness</th>\n",
              "      <th>Insulin</th>\n",
              "      <th>BMI</th>\n",
              "      <th>DiabetesPedigreeFunction</th>\n",
              "      <th>Age</th>\n",
              "      <th>Outcome</th>\n",
              "    </tr>\n",
              "  </thead>\n",
              "  <tbody>\n",
              "    <tr>\n",
              "      <th>0</th>\n",
              "      <td>6</td>\n",
              "      <td>148</td>\n",
              "      <td>72</td>\n",
              "      <td>35</td>\n",
              "      <td>0</td>\n",
              "      <td>33.6</td>\n",
              "      <td>0.627</td>\n",
              "      <td>50</td>\n",
              "      <td>1</td>\n",
              "    </tr>\n",
              "    <tr>\n",
              "      <th>1</th>\n",
              "      <td>1</td>\n",
              "      <td>85</td>\n",
              "      <td>66</td>\n",
              "      <td>29</td>\n",
              "      <td>0</td>\n",
              "      <td>26.6</td>\n",
              "      <td>0.351</td>\n",
              "      <td>31</td>\n",
              "      <td>0</td>\n",
              "    </tr>\n",
              "    <tr>\n",
              "      <th>2</th>\n",
              "      <td>8</td>\n",
              "      <td>183</td>\n",
              "      <td>64</td>\n",
              "      <td>0</td>\n",
              "      <td>0</td>\n",
              "      <td>23.3</td>\n",
              "      <td>0.672</td>\n",
              "      <td>32</td>\n",
              "      <td>1</td>\n",
              "    </tr>\n",
              "    <tr>\n",
              "      <th>3</th>\n",
              "      <td>1</td>\n",
              "      <td>89</td>\n",
              "      <td>66</td>\n",
              "      <td>23</td>\n",
              "      <td>94</td>\n",
              "      <td>28.1</td>\n",
              "      <td>0.167</td>\n",
              "      <td>21</td>\n",
              "      <td>0</td>\n",
              "    </tr>\n",
              "    <tr>\n",
              "      <th>4</th>\n",
              "      <td>0</td>\n",
              "      <td>137</td>\n",
              "      <td>40</td>\n",
              "      <td>35</td>\n",
              "      <td>168</td>\n",
              "      <td>43.1</td>\n",
              "      <td>2.288</td>\n",
              "      <td>33</td>\n",
              "      <td>1</td>\n",
              "    </tr>\n",
              "  </tbody>\n",
              "</table>\n",
              "</div>"
            ],
            "text/plain": [
              "   Pregnancies  Glucose  BloodPressure  ...  DiabetesPedigreeFunction  Age  Outcome\n",
              "0            6      148             72  ...                     0.627   50        1\n",
              "1            1       85             66  ...                     0.351   31        0\n",
              "2            8      183             64  ...                     0.672   32        1\n",
              "3            1       89             66  ...                     0.167   21        0\n",
              "4            0      137             40  ...                     2.288   33        1\n",
              "\n",
              "[5 rows x 9 columns]"
            ]
          },
          "metadata": {
            "tags": []
          },
          "execution_count": 12
        }
      ]
    },
    {
      "cell_type": "code",
      "metadata": {
        "id": "IJN_YFtpH75s",
        "colab_type": "code",
        "colab": {
          "base_uri": "https://localhost:8080/",
          "height": 294
        },
        "outputId": "93c9c8ba-8a6b-445a-f7ce-4edff1d8b85d"
      },
      "source": [
        "df.describe()"
      ],
      "execution_count": 13,
      "outputs": [
        {
          "output_type": "execute_result",
          "data": {
            "text/html": [
              "<div>\n",
              "<style scoped>\n",
              "    .dataframe tbody tr th:only-of-type {\n",
              "        vertical-align: middle;\n",
              "    }\n",
              "\n",
              "    .dataframe tbody tr th {\n",
              "        vertical-align: top;\n",
              "    }\n",
              "\n",
              "    .dataframe thead th {\n",
              "        text-align: right;\n",
              "    }\n",
              "</style>\n",
              "<table border=\"1\" class=\"dataframe\">\n",
              "  <thead>\n",
              "    <tr style=\"text-align: right;\">\n",
              "      <th></th>\n",
              "      <th>Pregnancies</th>\n",
              "      <th>Glucose</th>\n",
              "      <th>BloodPressure</th>\n",
              "      <th>SkinThickness</th>\n",
              "      <th>Insulin</th>\n",
              "      <th>BMI</th>\n",
              "      <th>DiabetesPedigreeFunction</th>\n",
              "      <th>Age</th>\n",
              "      <th>Outcome</th>\n",
              "    </tr>\n",
              "  </thead>\n",
              "  <tbody>\n",
              "    <tr>\n",
              "      <th>count</th>\n",
              "      <td>768.000000</td>\n",
              "      <td>768.000000</td>\n",
              "      <td>768.000000</td>\n",
              "      <td>768.000000</td>\n",
              "      <td>768.000000</td>\n",
              "      <td>768.000000</td>\n",
              "      <td>768.000000</td>\n",
              "      <td>768.000000</td>\n",
              "      <td>768.000000</td>\n",
              "    </tr>\n",
              "    <tr>\n",
              "      <th>mean</th>\n",
              "      <td>3.845052</td>\n",
              "      <td>120.894531</td>\n",
              "      <td>69.105469</td>\n",
              "      <td>20.536458</td>\n",
              "      <td>79.799479</td>\n",
              "      <td>31.992578</td>\n",
              "      <td>0.471876</td>\n",
              "      <td>33.240885</td>\n",
              "      <td>0.348958</td>\n",
              "    </tr>\n",
              "    <tr>\n",
              "      <th>std</th>\n",
              "      <td>3.369578</td>\n",
              "      <td>31.972618</td>\n",
              "      <td>19.355807</td>\n",
              "      <td>15.952218</td>\n",
              "      <td>115.244002</td>\n",
              "      <td>7.884160</td>\n",
              "      <td>0.331329</td>\n",
              "      <td>11.760232</td>\n",
              "      <td>0.476951</td>\n",
              "    </tr>\n",
              "    <tr>\n",
              "      <th>min</th>\n",
              "      <td>0.000000</td>\n",
              "      <td>0.000000</td>\n",
              "      <td>0.000000</td>\n",
              "      <td>0.000000</td>\n",
              "      <td>0.000000</td>\n",
              "      <td>0.000000</td>\n",
              "      <td>0.078000</td>\n",
              "      <td>21.000000</td>\n",
              "      <td>0.000000</td>\n",
              "    </tr>\n",
              "    <tr>\n",
              "      <th>25%</th>\n",
              "      <td>1.000000</td>\n",
              "      <td>99.000000</td>\n",
              "      <td>62.000000</td>\n",
              "      <td>0.000000</td>\n",
              "      <td>0.000000</td>\n",
              "      <td>27.300000</td>\n",
              "      <td>0.243750</td>\n",
              "      <td>24.000000</td>\n",
              "      <td>0.000000</td>\n",
              "    </tr>\n",
              "    <tr>\n",
              "      <th>50%</th>\n",
              "      <td>3.000000</td>\n",
              "      <td>117.000000</td>\n",
              "      <td>72.000000</td>\n",
              "      <td>23.000000</td>\n",
              "      <td>30.500000</td>\n",
              "      <td>32.000000</td>\n",
              "      <td>0.372500</td>\n",
              "      <td>29.000000</td>\n",
              "      <td>0.000000</td>\n",
              "    </tr>\n",
              "    <tr>\n",
              "      <th>75%</th>\n",
              "      <td>6.000000</td>\n",
              "      <td>140.250000</td>\n",
              "      <td>80.000000</td>\n",
              "      <td>32.000000</td>\n",
              "      <td>127.250000</td>\n",
              "      <td>36.600000</td>\n",
              "      <td>0.626250</td>\n",
              "      <td>41.000000</td>\n",
              "      <td>1.000000</td>\n",
              "    </tr>\n",
              "    <tr>\n",
              "      <th>max</th>\n",
              "      <td>17.000000</td>\n",
              "      <td>199.000000</td>\n",
              "      <td>122.000000</td>\n",
              "      <td>99.000000</td>\n",
              "      <td>846.000000</td>\n",
              "      <td>67.100000</td>\n",
              "      <td>2.420000</td>\n",
              "      <td>81.000000</td>\n",
              "      <td>1.000000</td>\n",
              "    </tr>\n",
              "  </tbody>\n",
              "</table>\n",
              "</div>"
            ],
            "text/plain": [
              "       Pregnancies     Glucose  ...         Age     Outcome\n",
              "count   768.000000  768.000000  ...  768.000000  768.000000\n",
              "mean      3.845052  120.894531  ...   33.240885    0.348958\n",
              "std       3.369578   31.972618  ...   11.760232    0.476951\n",
              "min       0.000000    0.000000  ...   21.000000    0.000000\n",
              "25%       1.000000   99.000000  ...   24.000000    0.000000\n",
              "50%       3.000000  117.000000  ...   29.000000    0.000000\n",
              "75%       6.000000  140.250000  ...   41.000000    1.000000\n",
              "max      17.000000  199.000000  ...   81.000000    1.000000\n",
              "\n",
              "[8 rows x 9 columns]"
            ]
          },
          "metadata": {
            "tags": []
          },
          "execution_count": 13
        }
      ]
    },
    {
      "cell_type": "code",
      "metadata": {
        "id": "VwgUZC-sH75w",
        "colab_type": "code",
        "colab": {}
      },
      "source": [
        "#convert to numpy array\n",
        "data = df.values"
      ],
      "execution_count": 0,
      "outputs": []
    },
    {
      "cell_type": "code",
      "metadata": {
        "id": "FOaUss_MH750",
        "colab_type": "code",
        "colab": {}
      },
      "source": [
        "# split into features (X) and labels (Y)\n",
        "X = data[:,0:7]\n",
        "Y = data[:,8]"
      ],
      "execution_count": 0,
      "outputs": []
    },
    {
      "cell_type": "code",
      "metadata": {
        "id": "wn6ju0TyH753",
        "colab_type": "code",
        "colab": {}
      },
      "source": [
        "X_train, X_test, y_train, y_test = \\\n",
        "        train_test_split(X, Y, test_size=0.20, random_state=1)"
      ],
      "execution_count": 0,
      "outputs": []
    },
    {
      "cell_type": "code",
      "metadata": {
        "id": "U8lW8QmmH757",
        "colab_type": "code",
        "colab": {
          "base_uri": "https://localhost:8080/",
          "height": 35
        },
        "outputId": "e7e81130-707f-4613-efca-364125de5155"
      },
      "source": [
        "X_train.shape"
      ],
      "execution_count": 18,
      "outputs": [
        {
          "output_type": "execute_result",
          "data": {
            "text/plain": [
              "(614, 7)"
            ]
          },
          "metadata": {
            "tags": []
          },
          "execution_count": 18
        }
      ]
    },
    {
      "cell_type": "code",
      "metadata": {
        "id": "PYZnjkVlH75-",
        "colab_type": "code",
        "colab": {}
      },
      "source": [
        "# create a fully connected model, as a sequential class\n",
        "model = Sequential()"
      ],
      "execution_count": 0,
      "outputs": []
    },
    {
      "cell_type": "code",
      "metadata": {
        "id": "kTYej2VQH76B",
        "colab_type": "code",
        "colab": {}
      },
      "source": [
        "# fully connected layers are defined using Dense class. We define three layers: 2 hidden layers + output layer.\n",
        "model.add(Dense(units=15, input_dim=7, kernel_initializer='uniform', activation='relu'))\n",
        "model.add(Dense(units=8, kernel_initializer='uniform', activation='relu'))\n",
        "model.add(Dense(units=1, kernel_initializer='uniform', activation='sigmoid'))"
      ],
      "execution_count": 0,
      "outputs": []
    },
    {
      "cell_type": "code",
      "metadata": {
        "id": "l3UMa0lMH76F",
        "colab_type": "code",
        "colab": {}
      },
      "source": [
        "# Compile model\n",
        "model.compile(loss='binary_crossentropy', optimizer='adam', metrics=['accuracy'])"
      ],
      "execution_count": 0,
      "outputs": []
    },
    {
      "cell_type": "code",
      "metadata": {
        "id": "zyPx6zBxH76I",
        "colab_type": "code",
        "colab": {
          "base_uri": "https://localhost:8080/",
          "height": 1000
        },
        "outputId": "8d28386f-5a8f-483f-f884-4829ba69a609"
      },
      "source": [
        "# Fit and evaluate using a handy Keras function to do both\n",
        "model.fit(X, Y, nb_epoch=150, batch_size=10, validation_split= 0.3)"
      ],
      "execution_count": 31,
      "outputs": [
        {
          "output_type": "stream",
          "text": [
            "/usr/local/lib/python3.6/dist-packages/ipykernel_launcher.py:1: UserWarning: The `nb_epoch` argument in `fit` has been renamed `epochs`.\n",
            "  \"\"\"Entry point for launching an IPython kernel.\n"
          ],
          "name": "stderr"
        },
        {
          "output_type": "stream",
          "text": [
            "WARNING:tensorflow:From /usr/local/lib/python3.6/dist-packages/keras/backend/tensorflow_backend.py:1033: The name tf.assign_add is deprecated. Please use tf.compat.v1.assign_add instead.\n",
            "\n",
            "Train on 537 samples, validate on 231 samples\n",
            "Epoch 1/150\n",
            "537/537 [==============================] - 1s 2ms/step - loss: 0.6803 - acc: 0.6462 - val_loss: 0.6652 - val_acc: 0.6580\n",
            "Epoch 2/150\n",
            "537/537 [==============================] - 0s 180us/step - loss: 0.6665 - acc: 0.6406 - val_loss: 0.6523 - val_acc: 0.6580\n",
            "Epoch 3/150\n",
            "537/537 [==============================] - 0s 189us/step - loss: 0.6504 - acc: 0.6462 - val_loss: 0.6454 - val_acc: 0.6623\n",
            "Epoch 4/150\n",
            "537/537 [==============================] - 0s 167us/step - loss: 0.6389 - acc: 0.6574 - val_loss: 0.6351 - val_acc: 0.6537\n",
            "Epoch 5/150\n",
            "537/537 [==============================] - 0s 179us/step - loss: 0.6331 - acc: 0.6462 - val_loss: 0.6218 - val_acc: 0.6667\n",
            "Epoch 6/150\n",
            "537/537 [==============================] - 0s 186us/step - loss: 0.6215 - acc: 0.6667 - val_loss: 0.6142 - val_acc: 0.6797\n",
            "Epoch 7/150\n",
            "537/537 [==============================] - 0s 181us/step - loss: 0.6147 - acc: 0.6760 - val_loss: 0.6205 - val_acc: 0.6797\n",
            "Epoch 8/150\n",
            "537/537 [==============================] - 0s 188us/step - loss: 0.6197 - acc: 0.6648 - val_loss: 0.5979 - val_acc: 0.7056\n",
            "Epoch 9/150\n",
            "537/537 [==============================] - 0s 199us/step - loss: 0.6070 - acc: 0.6760 - val_loss: 0.5966 - val_acc: 0.6970\n",
            "Epoch 10/150\n",
            "537/537 [==============================] - 0s 182us/step - loss: 0.6119 - acc: 0.6834 - val_loss: 0.5884 - val_acc: 0.7056\n",
            "Epoch 11/150\n",
            "537/537 [==============================] - 0s 170us/step - loss: 0.6032 - acc: 0.6890 - val_loss: 0.5994 - val_acc: 0.6926\n",
            "Epoch 12/150\n",
            "537/537 [==============================] - 0s 173us/step - loss: 0.6016 - acc: 0.6872 - val_loss: 0.5843 - val_acc: 0.6926\n",
            "Epoch 13/150\n",
            "537/537 [==============================] - 0s 164us/step - loss: 0.5947 - acc: 0.6983 - val_loss: 0.5813 - val_acc: 0.7013\n",
            "Epoch 14/150\n",
            "537/537 [==============================] - 0s 165us/step - loss: 0.5910 - acc: 0.6834 - val_loss: 0.5786 - val_acc: 0.6970\n",
            "Epoch 15/150\n",
            "537/537 [==============================] - 0s 164us/step - loss: 0.5939 - acc: 0.7002 - val_loss: 0.5787 - val_acc: 0.7186\n",
            "Epoch 16/150\n",
            "537/537 [==============================] - 0s 167us/step - loss: 0.5899 - acc: 0.6890 - val_loss: 0.5704 - val_acc: 0.7229\n",
            "Epoch 17/150\n",
            "537/537 [==============================] - 0s 168us/step - loss: 0.5876 - acc: 0.6853 - val_loss: 0.5704 - val_acc: 0.6970\n",
            "Epoch 18/150\n",
            "537/537 [==============================] - 0s 174us/step - loss: 0.5857 - acc: 0.6965 - val_loss: 0.5725 - val_acc: 0.6883\n",
            "Epoch 19/150\n",
            "537/537 [==============================] - 0s 177us/step - loss: 0.5822 - acc: 0.6946 - val_loss: 0.5650 - val_acc: 0.6926\n",
            "Epoch 20/150\n",
            "537/537 [==============================] - 0s 181us/step - loss: 0.5775 - acc: 0.6890 - val_loss: 0.5738 - val_acc: 0.7013\n",
            "Epoch 21/150\n",
            "537/537 [==============================] - 0s 186us/step - loss: 0.5805 - acc: 0.6983 - val_loss: 0.5613 - val_acc: 0.7273\n",
            "Epoch 22/150\n",
            "537/537 [==============================] - 0s 184us/step - loss: 0.5798 - acc: 0.6927 - val_loss: 0.5658 - val_acc: 0.6840\n",
            "Epoch 23/150\n",
            "537/537 [==============================] - 0s 173us/step - loss: 0.5808 - acc: 0.6909 - val_loss: 0.5796 - val_acc: 0.7056\n",
            "Epoch 24/150\n",
            "537/537 [==============================] - 0s 165us/step - loss: 0.5783 - acc: 0.6872 - val_loss: 0.5607 - val_acc: 0.6883\n",
            "Epoch 25/150\n",
            "537/537 [==============================] - 0s 162us/step - loss: 0.5763 - acc: 0.6909 - val_loss: 0.5582 - val_acc: 0.6926\n",
            "Epoch 26/150\n",
            "537/537 [==============================] - 0s 170us/step - loss: 0.5786 - acc: 0.7058 - val_loss: 0.5575 - val_acc: 0.7403\n",
            "Epoch 27/150\n",
            "537/537 [==============================] - 0s 173us/step - loss: 0.5744 - acc: 0.7058 - val_loss: 0.5551 - val_acc: 0.7100\n",
            "Epoch 28/150\n",
            "537/537 [==============================] - 0s 168us/step - loss: 0.5731 - acc: 0.7114 - val_loss: 0.5632 - val_acc: 0.6970\n",
            "Epoch 29/150\n",
            "537/537 [==============================] - 0s 170us/step - loss: 0.5736 - acc: 0.7020 - val_loss: 0.5595 - val_acc: 0.6970\n",
            "Epoch 30/150\n",
            "537/537 [==============================] - 0s 171us/step - loss: 0.5709 - acc: 0.7039 - val_loss: 0.5549 - val_acc: 0.7143\n",
            "Epoch 31/150\n",
            "537/537 [==============================] - 0s 172us/step - loss: 0.5687 - acc: 0.6983 - val_loss: 0.5614 - val_acc: 0.6883\n",
            "Epoch 32/150\n",
            "537/537 [==============================] - 0s 171us/step - loss: 0.5673 - acc: 0.7076 - val_loss: 0.5607 - val_acc: 0.7013\n",
            "Epoch 33/150\n",
            "537/537 [==============================] - 0s 169us/step - loss: 0.5673 - acc: 0.7076 - val_loss: 0.5676 - val_acc: 0.6926\n",
            "Epoch 34/150\n",
            "537/537 [==============================] - 0s 169us/step - loss: 0.5720 - acc: 0.6890 - val_loss: 0.5525 - val_acc: 0.7013\n",
            "Epoch 35/150\n",
            "537/537 [==============================] - 0s 165us/step - loss: 0.5747 - acc: 0.6909 - val_loss: 0.5489 - val_acc: 0.7359\n",
            "Epoch 36/150\n",
            "537/537 [==============================] - 0s 171us/step - loss: 0.5637 - acc: 0.7095 - val_loss: 0.5481 - val_acc: 0.7359\n",
            "Epoch 37/150\n",
            "537/537 [==============================] - 0s 163us/step - loss: 0.5621 - acc: 0.7095 - val_loss: 0.5475 - val_acc: 0.7273\n",
            "Epoch 38/150\n",
            "537/537 [==============================] - 0s 179us/step - loss: 0.5686 - acc: 0.7095 - val_loss: 0.5468 - val_acc: 0.7316\n",
            "Epoch 39/150\n",
            "537/537 [==============================] - 0s 178us/step - loss: 0.5585 - acc: 0.7244 - val_loss: 0.5774 - val_acc: 0.6926\n",
            "Epoch 40/150\n",
            "537/537 [==============================] - 0s 171us/step - loss: 0.5644 - acc: 0.7076 - val_loss: 0.5469 - val_acc: 0.7403\n",
            "Epoch 41/150\n",
            "537/537 [==============================] - 0s 166us/step - loss: 0.5652 - acc: 0.7058 - val_loss: 0.5542 - val_acc: 0.7229\n",
            "Epoch 42/150\n",
            "537/537 [==============================] - 0s 157us/step - loss: 0.5568 - acc: 0.7207 - val_loss: 0.5442 - val_acc: 0.7359\n",
            "Epoch 43/150\n",
            "537/537 [==============================] - 0s 171us/step - loss: 0.5546 - acc: 0.7095 - val_loss: 0.5541 - val_acc: 0.7100\n",
            "Epoch 44/150\n",
            "537/537 [==============================] - 0s 170us/step - loss: 0.5688 - acc: 0.6909 - val_loss: 0.5438 - val_acc: 0.7403\n",
            "Epoch 45/150\n",
            "537/537 [==============================] - 0s 177us/step - loss: 0.5542 - acc: 0.7039 - val_loss: 0.5448 - val_acc: 0.7273\n",
            "Epoch 46/150\n",
            "537/537 [==============================] - 0s 160us/step - loss: 0.5604 - acc: 0.7225 - val_loss: 0.5449 - val_acc: 0.7273\n",
            "Epoch 47/150\n",
            "537/537 [==============================] - 0s 166us/step - loss: 0.5555 - acc: 0.7132 - val_loss: 0.5405 - val_acc: 0.7316\n",
            "Epoch 48/150\n",
            "537/537 [==============================] - 0s 175us/step - loss: 0.5530 - acc: 0.7300 - val_loss: 0.5449 - val_acc: 0.7143\n",
            "Epoch 49/150\n",
            "537/537 [==============================] - 0s 169us/step - loss: 0.5518 - acc: 0.7039 - val_loss: 0.5468 - val_acc: 0.7359\n",
            "Epoch 50/150\n",
            "537/537 [==============================] - 0s 170us/step - loss: 0.5515 - acc: 0.7188 - val_loss: 0.5394 - val_acc: 0.7532\n",
            "Epoch 51/150\n",
            "537/537 [==============================] - 0s 168us/step - loss: 0.5560 - acc: 0.7188 - val_loss: 0.5386 - val_acc: 0.7576\n",
            "Epoch 52/150\n",
            "537/537 [==============================] - 0s 172us/step - loss: 0.5491 - acc: 0.7281 - val_loss: 0.5402 - val_acc: 0.7229\n",
            "Epoch 53/150\n",
            "537/537 [==============================] - 0s 170us/step - loss: 0.5521 - acc: 0.7151 - val_loss: 0.5386 - val_acc: 0.7186\n",
            "Epoch 54/150\n",
            "537/537 [==============================] - 0s 160us/step - loss: 0.5454 - acc: 0.7300 - val_loss: 0.5734 - val_acc: 0.7186\n",
            "Epoch 55/150\n",
            "537/537 [==============================] - 0s 183us/step - loss: 0.5470 - acc: 0.7263 - val_loss: 0.5366 - val_acc: 0.7359\n",
            "Epoch 56/150\n",
            "537/537 [==============================] - 0s 165us/step - loss: 0.5454 - acc: 0.7039 - val_loss: 0.5380 - val_acc: 0.7446\n",
            "Epoch 57/150\n",
            "537/537 [==============================] - 0s 172us/step - loss: 0.5628 - acc: 0.7151 - val_loss: 0.5419 - val_acc: 0.7273\n",
            "Epoch 58/150\n",
            "537/537 [==============================] - 0s 172us/step - loss: 0.5435 - acc: 0.7374 - val_loss: 0.5424 - val_acc: 0.7316\n",
            "Epoch 59/150\n",
            "537/537 [==============================] - 0s 174us/step - loss: 0.5453 - acc: 0.7412 - val_loss: 0.5330 - val_acc: 0.7662\n",
            "Epoch 60/150\n",
            "537/537 [==============================] - 0s 165us/step - loss: 0.5400 - acc: 0.7281 - val_loss: 0.5515 - val_acc: 0.7489\n",
            "Epoch 61/150\n",
            "537/537 [==============================] - 0s 169us/step - loss: 0.5497 - acc: 0.7188 - val_loss: 0.5388 - val_acc: 0.7273\n",
            "Epoch 62/150\n",
            "537/537 [==============================] - 0s 163us/step - loss: 0.5375 - acc: 0.7412 - val_loss: 0.5397 - val_acc: 0.7489\n",
            "Epoch 63/150\n",
            "537/537 [==============================] - 0s 172us/step - loss: 0.5494 - acc: 0.7244 - val_loss: 0.5429 - val_acc: 0.7273\n",
            "Epoch 64/150\n",
            "537/537 [==============================] - 0s 162us/step - loss: 0.5420 - acc: 0.7467 - val_loss: 0.5322 - val_acc: 0.7446\n",
            "Epoch 65/150\n",
            "537/537 [==============================] - 0s 164us/step - loss: 0.5438 - acc: 0.7169 - val_loss: 0.5446 - val_acc: 0.7273\n",
            "Epoch 66/150\n",
            "537/537 [==============================] - 0s 186us/step - loss: 0.5429 - acc: 0.7300 - val_loss: 0.5324 - val_acc: 0.7489\n",
            "Epoch 67/150\n",
            "537/537 [==============================] - 0s 176us/step - loss: 0.5392 - acc: 0.7207 - val_loss: 0.5373 - val_acc: 0.7532\n",
            "Epoch 68/150\n",
            "537/537 [==============================] - 0s 180us/step - loss: 0.5391 - acc: 0.7263 - val_loss: 0.5307 - val_acc: 0.7316\n",
            "Epoch 69/150\n",
            "537/537 [==============================] - 0s 188us/step - loss: 0.5349 - acc: 0.7337 - val_loss: 0.5288 - val_acc: 0.7446\n",
            "Epoch 70/150\n",
            "537/537 [==============================] - 0s 167us/step - loss: 0.5336 - acc: 0.7281 - val_loss: 0.5386 - val_acc: 0.7359\n",
            "Epoch 71/150\n",
            "537/537 [==============================] - 0s 212us/step - loss: 0.5343 - acc: 0.7356 - val_loss: 0.5356 - val_acc: 0.7273\n",
            "Epoch 72/150\n",
            "537/537 [==============================] - 0s 175us/step - loss: 0.5321 - acc: 0.7225 - val_loss: 0.5379 - val_acc: 0.7143\n",
            "Epoch 73/150\n",
            "537/537 [==============================] - 0s 161us/step - loss: 0.5368 - acc: 0.7225 - val_loss: 0.5416 - val_acc: 0.7186\n",
            "Epoch 74/150\n",
            "537/537 [==============================] - 0s 171us/step - loss: 0.5375 - acc: 0.7281 - val_loss: 0.5275 - val_acc: 0.7489\n",
            "Epoch 75/150\n",
            "537/537 [==============================] - 0s 159us/step - loss: 0.5308 - acc: 0.7542 - val_loss: 0.5369 - val_acc: 0.7359\n",
            "Epoch 76/150\n",
            "537/537 [==============================] - 0s 165us/step - loss: 0.5321 - acc: 0.7318 - val_loss: 0.5830 - val_acc: 0.6840\n",
            "Epoch 77/150\n",
            "537/537 [==============================] - 0s 163us/step - loss: 0.5486 - acc: 0.7393 - val_loss: 0.5286 - val_acc: 0.7403\n",
            "Epoch 78/150\n",
            "537/537 [==============================] - 0s 168us/step - loss: 0.5297 - acc: 0.7449 - val_loss: 0.5321 - val_acc: 0.7489\n",
            "Epoch 79/150\n",
            "537/537 [==============================] - 0s 164us/step - loss: 0.5351 - acc: 0.7449 - val_loss: 0.5316 - val_acc: 0.7359\n",
            "Epoch 80/150\n",
            "537/537 [==============================] - 0s 163us/step - loss: 0.5330 - acc: 0.7281 - val_loss: 0.5299 - val_acc: 0.7403\n",
            "Epoch 81/150\n",
            "537/537 [==============================] - 0s 180us/step - loss: 0.5240 - acc: 0.7412 - val_loss: 0.5420 - val_acc: 0.7229\n",
            "Epoch 82/150\n",
            "537/537 [==============================] - 0s 179us/step - loss: 0.5267 - acc: 0.7449 - val_loss: 0.5299 - val_acc: 0.7446\n",
            "Epoch 83/150\n",
            "537/537 [==============================] - 0s 176us/step - loss: 0.5178 - acc: 0.7412 - val_loss: 0.5407 - val_acc: 0.7186\n",
            "Epoch 84/150\n",
            "537/537 [==============================] - 0s 177us/step - loss: 0.5333 - acc: 0.7263 - val_loss: 0.5310 - val_acc: 0.7359\n",
            "Epoch 85/150\n",
            "537/537 [==============================] - 0s 168us/step - loss: 0.5224 - acc: 0.7393 - val_loss: 0.5338 - val_acc: 0.7186\n",
            "Epoch 86/150\n",
            "537/537 [==============================] - 0s 165us/step - loss: 0.5237 - acc: 0.7430 - val_loss: 0.5287 - val_acc: 0.7403\n",
            "Epoch 87/150\n",
            "537/537 [==============================] - 0s 172us/step - loss: 0.5233 - acc: 0.7505 - val_loss: 0.5444 - val_acc: 0.7229\n",
            "Epoch 88/150\n",
            "537/537 [==============================] - 0s 165us/step - loss: 0.5279 - acc: 0.7449 - val_loss: 0.5285 - val_acc: 0.7316\n",
            "Epoch 89/150\n",
            "537/537 [==============================] - 0s 170us/step - loss: 0.5209 - acc: 0.7467 - val_loss: 0.5741 - val_acc: 0.6970\n",
            "Epoch 90/150\n",
            "537/537 [==============================] - 0s 169us/step - loss: 0.5306 - acc: 0.7393 - val_loss: 0.5310 - val_acc: 0.7403\n",
            "Epoch 91/150\n",
            "537/537 [==============================] - 0s 167us/step - loss: 0.5214 - acc: 0.7393 - val_loss: 0.5261 - val_acc: 0.7576\n",
            "Epoch 92/150\n",
            "537/537 [==============================] - 0s 176us/step - loss: 0.5206 - acc: 0.7467 - val_loss: 0.5272 - val_acc: 0.7489\n",
            "Epoch 93/150\n",
            "537/537 [==============================] - 0s 171us/step - loss: 0.5149 - acc: 0.7374 - val_loss: 0.5268 - val_acc: 0.7359\n",
            "Epoch 94/150\n",
            "537/537 [==============================] - 0s 172us/step - loss: 0.5121 - acc: 0.7467 - val_loss: 0.5468 - val_acc: 0.7013\n",
            "Epoch 95/150\n",
            "537/537 [==============================] - 0s 166us/step - loss: 0.5180 - acc: 0.7467 - val_loss: 0.5240 - val_acc: 0.7446\n",
            "Epoch 96/150\n",
            "537/537 [==============================] - 0s 172us/step - loss: 0.5228 - acc: 0.7412 - val_loss: 0.5428 - val_acc: 0.7273\n",
            "Epoch 97/150\n",
            "537/537 [==============================] - 0s 170us/step - loss: 0.5132 - acc: 0.7430 - val_loss: 0.5229 - val_acc: 0.7489\n",
            "Epoch 98/150\n",
            "537/537 [==============================] - 0s 181us/step - loss: 0.5093 - acc: 0.7542 - val_loss: 0.5387 - val_acc: 0.7273\n",
            "Epoch 99/150\n",
            "537/537 [==============================] - 0s 184us/step - loss: 0.5087 - acc: 0.7598 - val_loss: 0.5185 - val_acc: 0.7576\n",
            "Epoch 100/150\n",
            "537/537 [==============================] - 0s 168us/step - loss: 0.5103 - acc: 0.7449 - val_loss: 0.5199 - val_acc: 0.7489\n",
            "Epoch 101/150\n",
            "537/537 [==============================] - 0s 180us/step - loss: 0.5157 - acc: 0.7505 - val_loss: 0.5176 - val_acc: 0.7403\n",
            "Epoch 102/150\n",
            "537/537 [==============================] - 0s 173us/step - loss: 0.5106 - acc: 0.7579 - val_loss: 0.5521 - val_acc: 0.7186\n",
            "Epoch 103/150\n",
            "537/537 [==============================] - 0s 167us/step - loss: 0.5162 - acc: 0.7486 - val_loss: 0.5178 - val_acc: 0.7532\n",
            "Epoch 104/150\n",
            "537/537 [==============================] - 0s 162us/step - loss: 0.5064 - acc: 0.7598 - val_loss: 0.5226 - val_acc: 0.7446\n",
            "Epoch 105/150\n",
            "537/537 [==============================] - 0s 163us/step - loss: 0.5181 - acc: 0.7691 - val_loss: 0.5275 - val_acc: 0.7619\n",
            "Epoch 106/150\n",
            "537/537 [==============================] - 0s 172us/step - loss: 0.5177 - acc: 0.7542 - val_loss: 0.5159 - val_acc: 0.7576\n",
            "Epoch 107/150\n",
            "537/537 [==============================] - 0s 169us/step - loss: 0.5045 - acc: 0.7449 - val_loss: 0.5369 - val_acc: 0.7446\n",
            "Epoch 108/150\n",
            "537/537 [==============================] - 0s 172us/step - loss: 0.5126 - acc: 0.7412 - val_loss: 0.5194 - val_acc: 0.7403\n",
            "Epoch 109/150\n",
            "537/537 [==============================] - 0s 162us/step - loss: 0.5055 - acc: 0.7523 - val_loss: 0.5259 - val_acc: 0.7100\n",
            "Epoch 110/150\n",
            "537/537 [==============================] - 0s 169us/step - loss: 0.5044 - acc: 0.7579 - val_loss: 0.5301 - val_acc: 0.7403\n",
            "Epoch 111/150\n",
            "537/537 [==============================] - 0s 174us/step - loss: 0.5134 - acc: 0.7467 - val_loss: 0.5116 - val_acc: 0.7446\n",
            "Epoch 112/150\n",
            "537/537 [==============================] - 0s 190us/step - loss: 0.5035 - acc: 0.7467 - val_loss: 0.5153 - val_acc: 0.7576\n",
            "Epoch 113/150\n",
            "537/537 [==============================] - 0s 180us/step - loss: 0.5053 - acc: 0.7412 - val_loss: 0.5134 - val_acc: 0.7662\n",
            "Epoch 114/150\n",
            "537/537 [==============================] - 0s 164us/step - loss: 0.5009 - acc: 0.7709 - val_loss: 0.5139 - val_acc: 0.7446\n",
            "Epoch 115/150\n",
            "537/537 [==============================] - 0s 170us/step - loss: 0.5067 - acc: 0.7616 - val_loss: 0.5255 - val_acc: 0.7100\n",
            "Epoch 116/150\n",
            "537/537 [==============================] - 0s 169us/step - loss: 0.5017 - acc: 0.7672 - val_loss: 0.5156 - val_acc: 0.7706\n",
            "Epoch 117/150\n",
            "537/537 [==============================] - 0s 174us/step - loss: 0.5068 - acc: 0.7486 - val_loss: 0.5160 - val_acc: 0.7359\n",
            "Epoch 118/150\n",
            "537/537 [==============================] - 0s 165us/step - loss: 0.5014 - acc: 0.7691 - val_loss: 0.5076 - val_acc: 0.7489\n",
            "Epoch 119/150\n",
            "537/537 [==============================] - 0s 166us/step - loss: 0.5099 - acc: 0.7523 - val_loss: 0.5226 - val_acc: 0.7186\n",
            "Epoch 120/150\n",
            "537/537 [==============================] - 0s 174us/step - loss: 0.5050 - acc: 0.7654 - val_loss: 0.5480 - val_acc: 0.7013\n",
            "Epoch 121/150\n",
            "537/537 [==============================] - 0s 166us/step - loss: 0.5088 - acc: 0.7616 - val_loss: 0.5052 - val_acc: 0.7576\n",
            "Epoch 122/150\n",
            "537/537 [==============================] - 0s 164us/step - loss: 0.4985 - acc: 0.7486 - val_loss: 0.5146 - val_acc: 0.7446\n",
            "Epoch 123/150\n",
            "537/537 [==============================] - 0s 174us/step - loss: 0.5115 - acc: 0.7598 - val_loss: 0.5159 - val_acc: 0.7273\n",
            "Epoch 124/150\n",
            "537/537 [==============================] - 0s 171us/step - loss: 0.4990 - acc: 0.7579 - val_loss: 0.5115 - val_acc: 0.7489\n",
            "Epoch 125/150\n",
            "537/537 [==============================] - 0s 174us/step - loss: 0.5011 - acc: 0.7561 - val_loss: 0.5381 - val_acc: 0.7316\n",
            "Epoch 126/150\n",
            "537/537 [==============================] - 0s 175us/step - loss: 0.4972 - acc: 0.7635 - val_loss: 0.5012 - val_acc: 0.7489\n",
            "Epoch 127/150\n",
            "537/537 [==============================] - 0s 161us/step - loss: 0.5001 - acc: 0.7654 - val_loss: 0.5232 - val_acc: 0.7662\n",
            "Epoch 128/150\n",
            "537/537 [==============================] - 0s 171us/step - loss: 0.4990 - acc: 0.7691 - val_loss: 0.5014 - val_acc: 0.7446\n",
            "Epoch 129/150\n",
            "537/537 [==============================] - 0s 170us/step - loss: 0.4917 - acc: 0.7579 - val_loss: 0.5066 - val_acc: 0.7706\n",
            "Epoch 130/150\n",
            "537/537 [==============================] - 0s 171us/step - loss: 0.4968 - acc: 0.7635 - val_loss: 0.5061 - val_acc: 0.7489\n",
            "Epoch 131/150\n",
            "537/537 [==============================] - 0s 163us/step - loss: 0.4922 - acc: 0.7691 - val_loss: 0.5022 - val_acc: 0.7662\n",
            "Epoch 132/150\n",
            "537/537 [==============================] - 0s 176us/step - loss: 0.4998 - acc: 0.7654 - val_loss: 0.5018 - val_acc: 0.7359\n",
            "Epoch 133/150\n",
            "537/537 [==============================] - 0s 166us/step - loss: 0.4953 - acc: 0.7635 - val_loss: 0.5025 - val_acc: 0.7619\n",
            "Epoch 134/150\n",
            "537/537 [==============================] - 0s 172us/step - loss: 0.5059 - acc: 0.7654 - val_loss: 0.5010 - val_acc: 0.7576\n",
            "Epoch 135/150\n",
            "537/537 [==============================] - 0s 164us/step - loss: 0.4992 - acc: 0.7523 - val_loss: 0.5012 - val_acc: 0.7619\n",
            "Epoch 136/150\n",
            "537/537 [==============================] - 0s 166us/step - loss: 0.4899 - acc: 0.7672 - val_loss: 0.5025 - val_acc: 0.7316\n",
            "Epoch 137/150\n",
            "537/537 [==============================] - 0s 175us/step - loss: 0.5021 - acc: 0.7672 - val_loss: 0.5267 - val_acc: 0.7359\n",
            "Epoch 138/150\n",
            "537/537 [==============================] - 0s 166us/step - loss: 0.4925 - acc: 0.7579 - val_loss: 0.5150 - val_acc: 0.7706\n",
            "Epoch 139/150\n",
            "537/537 [==============================] - 0s 171us/step - loss: 0.4901 - acc: 0.7579 - val_loss: 0.5003 - val_acc: 0.7489\n",
            "Epoch 140/150\n",
            "537/537 [==============================] - 0s 171us/step - loss: 0.5040 - acc: 0.7616 - val_loss: 0.4964 - val_acc: 0.7576\n",
            "Epoch 141/150\n",
            "537/537 [==============================] - 0s 165us/step - loss: 0.4961 - acc: 0.7579 - val_loss: 0.4998 - val_acc: 0.7273\n",
            "Epoch 142/150\n",
            "537/537 [==============================] - 0s 165us/step - loss: 0.4880 - acc: 0.7728 - val_loss: 0.4951 - val_acc: 0.7403\n",
            "Epoch 143/150\n",
            "537/537 [==============================] - 0s 162us/step - loss: 0.4961 - acc: 0.7654 - val_loss: 0.5058 - val_acc: 0.7273\n",
            "Epoch 144/150\n",
            "537/537 [==============================] - 0s 177us/step - loss: 0.4914 - acc: 0.7691 - val_loss: 0.5050 - val_acc: 0.7576\n",
            "Epoch 145/150\n",
            "537/537 [==============================] - 0s 165us/step - loss: 0.4868 - acc: 0.7449 - val_loss: 0.4976 - val_acc: 0.7489\n",
            "Epoch 146/150\n",
            "537/537 [==============================] - 0s 172us/step - loss: 0.4873 - acc: 0.7709 - val_loss: 0.4956 - val_acc: 0.7403\n",
            "Epoch 147/150\n",
            "537/537 [==============================] - 0s 163us/step - loss: 0.4826 - acc: 0.7654 - val_loss: 0.4980 - val_acc: 0.7662\n",
            "Epoch 148/150\n",
            "537/537 [==============================] - 0s 187us/step - loss: 0.4907 - acc: 0.7598 - val_loss: 0.4978 - val_acc: 0.7316\n",
            "Epoch 149/150\n",
            "537/537 [==============================] - 0s 177us/step - loss: 0.4972 - acc: 0.7542 - val_loss: 0.4940 - val_acc: 0.7706\n",
            "Epoch 150/150\n",
            "537/537 [==============================] - 0s 175us/step - loss: 0.4894 - acc: 0.7598 - val_loss: 0.4982 - val_acc: 0.7662\n"
          ],
          "name": "stdout"
        },
        {
          "output_type": "execute_result",
          "data": {
            "text/plain": [
              "<keras.callbacks.History at 0x7fdaa9ca8320>"
            ]
          },
          "metadata": {
            "tags": []
          },
          "execution_count": 31
        }
      ]
    },
    {
      "cell_type": "code",
      "metadata": {
        "id": "U4fJodBOH76M",
        "colab_type": "code",
        "colab": {
          "base_uri": "https://localhost:8080/",
          "height": 52
        },
        "outputId": "f95e6287-c503-4058-e995-e58eb5d2b3fb"
      },
      "source": [
        "# evaluate the model\n",
        "scores = model.evaluate(X_test, y_test)\n",
        "print(\"%s: %.2f%%\" % (model.metrics_names[1], scores[1]*100))"
      ],
      "execution_count": 32,
      "outputs": [
        {
          "output_type": "stream",
          "text": [
            "154/154 [==============================] - 0s 71us/step\n",
            "acc: 77.92%\n"
          ],
          "name": "stdout"
        }
      ]
    },
    {
      "cell_type": "code",
      "metadata": {
        "id": "ZtqD-Un-H76P",
        "colab_type": "code",
        "colab": {}
      },
      "source": [
        ""
      ],
      "execution_count": 0,
      "outputs": []
    }
  ]
}