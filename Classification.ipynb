{
  "nbformat": 4,
  "nbformat_minor": 0,
  "metadata": {
    "kernelspec": {
      "display_name": "Python 2",
      "language": "python",
      "name": "python2"
    },
    "language_info": {
      "codemirror_mode": {
        "name": "ipython",
        "version": 2
      },
      "file_extension": ".py",
      "mimetype": "text/x-python",
      "name": "python",
      "nbconvert_exporter": "python",
      "pygments_lexer": "ipython2",
      "version": "2.7.11"
    },
    "colab": {
      "name": "Classification.ipynb",
      "version": "0.3.2",
      "provenance": [],
      "collapsed_sections": []
    }
  },
  "cells": [
    {
      "cell_type": "markdown",
      "metadata": {
        "id": "HZAo13cYK-wJ",
        "colab_type": "text"
      },
      "source": [
        "# Simple Classification "
      ]
    },
    {
      "cell_type": "markdown",
      "metadata": {
        "id": "hTNqp0UPK-wM",
        "colab_type": "text"
      },
      "source": [
        "### import the packages "
      ]
    },
    {
      "cell_type": "code",
      "metadata": {
        "id": "LsXqWRPkK-wO",
        "colab_type": "code",
        "colab": {}
      },
      "source": [
        "# Decision Tree Classifier\n",
        "from sklearn import datasets\n",
        "import numpy as np\n",
        "from sklearn.neighbors import KNeighborsClassifier\n",
        "from sklearn.tree import DecisionTreeClassifier\n",
        "from sklearn.svm import SVC\n",
        "from sklearn.linear_model import LogisticRegression\n",
        "from sklearn.discriminant_analysis import LinearDiscriminantAnalysis\n",
        "from sklearn.discriminant_analysis import QuadraticDiscriminantAnalysis\n",
        "from sklearn import metrics"
      ],
      "execution_count": 0,
      "outputs": []
    },
    {
      "cell_type": "markdown",
      "metadata": {
        "id": "FRQaHtxYK-wX",
        "colab_type": "text"
      },
      "source": [
        "### load the breast cancer dataset "
      ]
    },
    {
      "cell_type": "markdown",
      "metadata": {
        "id": "O9_yILDoLWER",
        "colab_type": "text"
      },
      "source": [
        "## Dataset Description\n",
        "Features are computed from a digitized image of a fine needle aspirate (FNA) of a breast mass. They describe characteristics of the cell nuclei present in: [K. P. Bennett and O. L. Mangasarian: \"Robust Linear Programming Discrimination of Two Linearly Inseparable Sets\", Optimization Methods and Software 1, 1992, 23-34].\n",
        "\n",
        "\n",
        "\n",
        "It can be found on UCI Machine Learning Repository: https://archive.ics.uci.edu/ml/datasets/Breast+Cancer+Wisconsin+%28Diagnostic%29\n",
        "\n",
        "Attribute Information:\n",
        "\n",
        "1) ID number 2) Diagnosis (M = malignant, B = benign) 3-32)\n",
        "\n",
        "Ten real-valued features are computed for each cell nucleus:\n",
        "\n",
        "a) radius (mean of distances from center to points on the perimeter) \n",
        "\n",
        "b) texture (standard deviation of gray-scale values) \n",
        "c) perimeter \n",
        "d) area \n",
        "e) smoothness (local variation in radius lengths) \n",
        "f) compactness (perimeter^2 / area - 1.0) \n",
        "g) concavity (severity of concave portions of the contour) \n",
        "h) concave points (number of concave portions of the contour) \n",
        "i) symmetry \n",
        "j) fractal dimension (\"coastline approximation\" - 1)\n",
        "\n",
        "The mean, standard error and \"worst\" or largest (mean of the three largest values) of these features were computed for each image, resulting in 30 features. For instance, field 3 is Mean Radius, field 13 is Radius SE, field 23 is Worst Radius.\n",
        "\n",
        "All feature values are recoded with four significant digits.\n",
        "\n",
        "Missing attribute values: none\n",
        "\n",
        "Class distribution: 357 benign, 212 malignant"
      ]
    },
    {
      "cell_type": "code",
      "metadata": {
        "id": "xcZkWy0kK-wY",
        "colab_type": "code",
        "colab": {}
      },
      "source": [
        "# load the breast cancer datasets\n",
        "dataset = datasets.load_breast_cancer()"
      ],
      "execution_count": 0,
      "outputs": []
    },
    {
      "cell_type": "code",
      "metadata": {
        "id": "rtcglrPRK-wd",
        "colab_type": "code",
        "outputId": "692e3c98-4568-46e8-9a91-030c1f639a5e",
        "colab": {
          "base_uri": "https://localhost:8080/",
          "height": 35
        }
      },
      "source": [
        "dataset.viewkeys()"
      ],
      "execution_count": 4,
      "outputs": [
        {
          "output_type": "execute_result",
          "data": {
            "text/plain": [
              "dict_keys(['target', 'DESCR', 'target_names', 'feature_names', 'data', 'filename'])"
            ]
          },
          "metadata": {
            "tags": []
          },
          "execution_count": 4
        }
      ]
    },
    {
      "cell_type": "code",
      "metadata": {
        "id": "w9i2JLVSK-wl",
        "colab_type": "code",
        "outputId": "a6f4c397-2393-4848-a113-1408c88e92e9",
        "colab": {
          "base_uri": "https://localhost:8080/",
          "height": 35
        }
      },
      "source": [
        "dataset.data.shape"
      ],
      "execution_count": 5,
      "outputs": [
        {
          "output_type": "execute_result",
          "data": {
            "text/plain": [
              "(569, 30)"
            ]
          },
          "metadata": {
            "tags": []
          },
          "execution_count": 5
        }
      ]
    },
    {
      "cell_type": "code",
      "metadata": {
        "id": "A6yzTokJK-w_",
        "colab_type": "code",
        "outputId": "f3fb37ae-d00b-4487-cd47-83aed8220e32",
        "colab": {
          "base_uri": "https://localhost:8080/",
          "height": 191
        }
      },
      "source": [
        "dataset.feature_names"
      ],
      "execution_count": 6,
      "outputs": [
        {
          "output_type": "execute_result",
          "data": {
            "text/plain": [
              "array(['mean radius', 'mean texture', 'mean perimeter', 'mean area',\n",
              "       'mean smoothness', 'mean compactness', 'mean concavity',\n",
              "       'mean concave points', 'mean symmetry', 'mean fractal dimension',\n",
              "       'radius error', 'texture error', 'perimeter error', 'area error',\n",
              "       'smoothness error', 'compactness error', 'concavity error',\n",
              "       'concave points error', 'symmetry error',\n",
              "       'fractal dimension error', 'worst radius', 'worst texture',\n",
              "       'worst perimeter', 'worst area', 'worst smoothness',\n",
              "       'worst compactness', 'worst concavity', 'worst concave points',\n",
              "       'worst symmetry', 'worst fractal dimension'], dtype='|S23')"
            ]
          },
          "metadata": {
            "tags": []
          },
          "execution_count": 6
        }
      ]
    },
    {
      "cell_type": "code",
      "metadata": {
        "id": "RX5oqyobK-xC",
        "colab_type": "code",
        "outputId": "5f73d17e-a4e8-4764-e342-aba6b4a0ca3d",
        "colab": {
          "base_uri": "https://localhost:8080/",
          "height": 35
        }
      },
      "source": [
        "dataset.target_names"
      ],
      "execution_count": 7,
      "outputs": [
        {
          "output_type": "execute_result",
          "data": {
            "text/plain": [
              "array(['malignant', 'benign'], dtype='|S9')"
            ]
          },
          "metadata": {
            "tags": []
          },
          "execution_count": 7
        }
      ]
    },
    {
      "cell_type": "markdown",
      "metadata": {
        "id": "fviOOVSpK-xK",
        "colab_type": "text"
      },
      "source": [
        "### Fit a classifier to data "
      ]
    },
    {
      "cell_type": "code",
      "metadata": {
        "id": "K1AcuKpoK-xL",
        "colab_type": "code",
        "outputId": "4213be45-ca4b-489f-a13a-7b16e589072b",
        "colab": {
          "base_uri": "https://localhost:8080/",
          "height": 69
        }
      },
      "source": [
        "# fit different models to the data\n",
        "model = KNeighborsClassifier()\n",
        "#model = DecisionTreeClassifier()\n",
        "#model = SVR()\n",
        "#model = LogisticRegression()\n",
        "#model = LinearDiscriminantAnalysis()\n",
        "#model = QuadraticDiscriminantAnalysis()\n",
        "model.fit(dataset.data, dataset.target)"
      ],
      "execution_count": 8,
      "outputs": [
        {
          "output_type": "execute_result",
          "data": {
            "text/plain": [
              "KNeighborsClassifier(algorithm='auto', leaf_size=30, metric='minkowski',\n",
              "           metric_params=None, n_jobs=None, n_neighbors=5, p=2,\n",
              "           weights='uniform')"
            ]
          },
          "metadata": {
            "tags": []
          },
          "execution_count": 8
        }
      ]
    },
    {
      "cell_type": "markdown",
      "metadata": {
        "id": "fbof3rT8K-xP",
        "colab_type": "text"
      },
      "source": [
        "### Make prediction "
      ]
    },
    {
      "cell_type": "code",
      "metadata": {
        "id": "ykZGu0X0K-xQ",
        "colab_type": "code",
        "colab": {}
      },
      "source": [
        "# make predictions\n",
        "expected = dataset.target\n",
        "predicted = model.predict(dataset.data)"
      ],
      "execution_count": 0,
      "outputs": []
    },
    {
      "cell_type": "code",
      "metadata": {
        "id": "S2UAjmq6K-xY",
        "colab_type": "code",
        "outputId": "47acd22a-21b2-4ebf-cd3a-12fa459b32b1",
        "colab": {
          "base_uri": "https://localhost:8080/",
          "height": 208
        }
      },
      "source": [
        "# summarize the fit of the model\n",
        "# Note: This is NOT the correct way of evaluating your models!\n",
        "print(metrics.classification_report(expected, predicted))\n",
        "print(metrics.confusion_matrix(expected, predicted))"
      ],
      "execution_count": 10,
      "outputs": [
        {
          "output_type": "stream",
          "text": [
            "              precision    recall  f1-score   support\n",
            "\n",
            "           0       0.95      0.90      0.93       212\n",
            "           1       0.94      0.97      0.96       357\n",
            "\n",
            "   micro avg       0.95      0.95      0.95       569\n",
            "   macro avg       0.95      0.94      0.94       569\n",
            "weighted avg       0.95      0.95      0.95       569\n",
            "\n",
            "[[191  21]\n",
            " [  9 348]]\n"
          ],
          "name": "stdout"
        }
      ]
    },
    {
      "cell_type": "code",
      "metadata": {
        "id": "EilCXN8WK-xc",
        "colab_type": "code",
        "colab": {}
      },
      "source": [
        ""
      ],
      "execution_count": 0,
      "outputs": []
    }
  ]
}