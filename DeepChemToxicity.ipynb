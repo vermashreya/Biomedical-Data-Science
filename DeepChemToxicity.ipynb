{
  "nbformat": 4,
  "nbformat_minor": 0,
  "metadata": {
    "colab": {
      "name": "DeepChemToxicity.ipynb",
      "version": "0.3.2",
      "provenance": [],
      "collapsed_sections": []
    },
    "kernelspec": {
      "name": "python3",
      "display_name": "Python 3"
    }
  },
  "cells": [
    {
      "cell_type": "markdown",
      "metadata": {
        "id": "Mo04sCqy5oCl",
        "colab_type": "text"
      },
      "source": [
        "# Credit\n",
        "This code is adapted based on code examples in [this](https://www.oreilly.com/library/view/deep-learning-for/9781492039822/) book: Ramsundar, Bharath; Eastman, Peter; Walters, Patrick; Pande, Vijay. Deep Learning for the Life Sciences, Chapter 3.\n",
        "\n",
        "\n",
        "\n",
        "![alt text](https://www.safaribooksonline.com/library/cover/9781492039822/360h/)"
      ]
    },
    {
      "cell_type": "markdown",
      "metadata": {
        "id": "p3jcTvRP5vp1",
        "colab_type": "text"
      },
      "source": [
        "# ToolKit Description\n",
        "We will use DeepChem in this example. DeepChem is an open-source python library built on top of Google's Tensorflow for deep-learning in drug discovery, materials science, quantum chemistry, and biology. \n",
        "You can learn more about DeepChem [here](https://deepchem.io/about.html).\n",
        "\n",
        "![alt text](https://avatars1.githubusercontent.com/u/17170641?s=400&v=4)"
      ]
    },
    {
      "cell_type": "markdown",
      "metadata": {
        "id": "9vZQpi4batQf",
        "colab_type": "text"
      },
      "source": [
        "# Installing DeepChem"
      ]
    },
    {
      "cell_type": "markdown",
      "metadata": {
        "id": "5Y8ZyWn21L01",
        "colab_type": "text"
      },
      "source": [
        "Do not worry if you do not understand everything here. \n",
        "All you need to know is this section will allow you to \n",
        "install DeepChem on Colab."
      ]
    },
    {
      "cell_type": "code",
      "metadata": {
        "id": "b_CZcX8FsuIF",
        "colab_type": "code",
        "outputId": "86d38375-5cad-4c2b-e887-7033e8ee6359",
        "colab": {
          "base_uri": "https://localhost:8080/",
          "height": 1000
        }
      },
      "source": [
        "# Installing RDKit\n",
        "!wget -c https://repo.continuum.io/miniconda/Miniconda3-latest-Linux-x86_64.sh\n",
        "!chmod +x Miniconda3-latest-Linux-x86_64.sh\n",
        "!time bash ./Miniconda3-latest-Linux-x86_64.sh -b -f -p /usr/local\n",
        "!time conda install -q -y -c conda-forge rdkit"
      ],
      "execution_count": 2,
      "outputs": [
        {
          "output_type": "stream",
          "text": [
            "--2019-08-28 20:06:36--  https://repo.continuum.io/miniconda/Miniconda3-latest-Linux-x86_64.sh\n",
            "Resolving repo.continuum.io (repo.continuum.io)... 104.18.201.79, 104.18.200.79, 2606:4700::6812:c94f, ...\n",
            "Connecting to repo.continuum.io (repo.continuum.io)|104.18.201.79|:443... connected.\n",
            "HTTP request sent, awaiting response... 416 Requested Range Not Satisfiable\n",
            "\n",
            "    The file is already fully retrieved; nothing to do.\n",
            "\n",
            "PREFIX=/usr/local\n",
            "Unpacking payload ...\n",
            "Collecting package metadata (current_repodata.json): - \b\b\\ \b\b| \b\b/ \b\b- \b\b\\ \b\b| \b\b/ \b\b- \b\b\\ \b\b| \b\b/ \b\bdone\n",
            "Solving environment: \\ \b\b| \b\b/ \b\b- \b\b\\ \b\b| \b\b/ \b\b- \b\b\\ \b\b| \b\b/ \b\b- \b\b\\ \b\b| \b\b/ \b\b- \b\b\\ \b\b| \b\b/ \b\b- \b\b\\ \b\b| \b\b/ \b\b- \b\b\\ \b\b| \b\b/ \b\b- \b\b\\ \b\b| \b\b/ \b\b- \b\b\\ \b\b| \b\b/ \b\b- \b\b\\ \b\b| \b\b/ \b\b- \b\b\\ \b\b| \b\b/ \b\b- \b\b\\ \b\b| \b\b/ \b\b- \b\b\\ \b\b| \b\b/ \b\b- \b\b\\ \b\b| \b\b/ \b\b- \b\b\\ \b\b| \b\b/ \b\b- \b\b\\ \b\b| \b\b/ \b\b- \b\b\\ \b\b| \b\b/ \b\b- \b\b\\ \b\b| \b\b/ \b\b- \b\b\\ \b\b| \b\b/ \b\b- \b\b\\ \b\b| \b\b/ \b\b- \b\b\\ \b\b| \b\b/ \b\b- \b\b\\ \b\b| \b\b/ \b\b- \b\b\\ \b\b| \b\b/ \b\b- \b\b\\ \b\b| \b\b/ \b\b- \b\b\\ \b\b| \b\b/ \b\b- \b\b\\ \b\b| \b\b/ \b\b- \b\b\\ \b\b| \b\b/ \b\b- \b\b\\ \b\b| \b\b/ \b\b- \b\b\\ \b\b| \b\b/ \b\b- \b\b\\ \b\b| \b\b/ \b\b- \b\b\\ \b\b| \b\b/ \b\b- \b\b\\ \b\b| \b\b/ \b\b- \b\b\\ \b\b| \b\b/ \b\b- \b\b\\ \b\b| \b\b/ \b\b- \b\b\\ \b\bdone\n",
            "\n",
            "## Package Plan ##\n",
            "\n",
            "  environment location: /usr/local\n",
            "\n",
            "  added / updated specs:\n",
            "    - _libgcc_mutex==0.1=main\n",
            "    - asn1crypto==0.24.0=py37_0\n",
            "    - bzip2==1.0.8=h7b6447c_0\n",
            "    - ca-certificates==2019.5.15=0\n",
            "    - certifi==2019.6.16=py37_0\n",
            "    - cffi==1.12.3=py37h2e261b9_0\n",
            "    - chardet==3.0.4=py37_1\n",
            "    - conda-package-handling==1.3.11=py37_0\n",
            "    - conda==4.7.10=py37_0\n",
            "    - cryptography==2.7=py37h1ba5d50_0\n",
            "    - idna==2.8=py37_0\n",
            "    - libarchive==3.3.3=h5d8350f_5\n",
            "    - libedit==3.1.20181209=hc058e9b_0\n",
            "    - libffi==3.2.1=hd88cf55_4\n",
            "    - libgcc-ng==9.1.0=hdf63c60_0\n",
            "    - libstdcxx-ng==9.1.0=hdf63c60_0\n",
            "    - libxml2==2.9.9=hea5a465_1\n",
            "    - lz4-c==1.8.1.2=h14c3975_0\n",
            "    - lzo==2.10=h49e0be7_2\n",
            "    - ncurses==6.1=he6710b0_1\n",
            "    - openssl==1.1.1c=h7b6447c_1\n",
            "    - pip==19.1.1=py37_0\n",
            "    - pycosat==0.6.3=py37h14c3975_0\n",
            "    - pycparser==2.19=py37_0\n",
            "    - pyopenssl==19.0.0=py37_0\n",
            "    - pysocks==1.7.0=py37_0\n",
            "    - python-libarchive-c==2.8=py37_11\n",
            "    - python==3.7.3=h0371630_0\n",
            "    - readline==7.0=h7b6447c_5\n",
            "    - requests==2.22.0=py37_0\n",
            "    - ruamel_yaml==0.15.46=py37h14c3975_0\n",
            "    - setuptools==41.0.1=py37_0\n",
            "    - six==1.12.0=py37_0\n",
            "    - sqlite==3.29.0=h7b6447c_0\n",
            "    - tk==8.6.8=hbc83047_0\n",
            "    - tqdm==4.32.1=py_0\n",
            "    - urllib3==1.24.2=py37_0\n",
            "    - wheel==0.33.4=py37_0\n",
            "    - xz==5.2.4=h14c3975_4\n",
            "    - yaml==0.1.7=had09818_2\n",
            "    - zlib==1.2.11=h7b6447c_3\n",
            "    - zstd==1.3.7=h0b5b093_0\n",
            "\n",
            "\n",
            "The following packages will be UPDATED:\n",
            "\n",
            "  openssl            conda-forge::openssl-1.1.1c-h516909a_0 --> pkgs/main::openssl-1.1.1c-h7b6447c_1\n",
            "\n",
            "The following packages will be SUPERSEDED by a higher-priority channel:\n",
            "\n",
            "  ca-certificates    conda-forge::ca-certificates-2019.6.1~ --> pkgs/main::ca-certificates-2019.5.15-0\n",
            "  certifi             conda-forge::certifi-2019.6.16-py37_1 --> pkgs/main::certifi-2019.6.16-py37_0\n",
            "  conda                    conda-forge::conda-4.7.11-py37_0 --> pkgs/main::conda-4.7.10-py37_0\n",
            "  lz4-c              conda-forge::lz4-c-1.8.3-he1b5a44_1001 --> pkgs/main::lz4-c-1.8.1.2-h14c3975_0\n",
            "\n",
            "\n",
            "Preparing transaction: / \b\bdone\n",
            "Executing transaction: \\ \b\b| \b\bdone\n",
            "installation finished.\n",
            "WARNING:\n",
            "    You currently have a PYTHONPATH environment variable set. This may cause\n",
            "    unexpected behavior when running the Python interpreter in Miniconda3.\n",
            "    For best results, please verify that your PYTHONPATH only points to\n",
            "    directories of packages that are compatible with the Python interpreter\n",
            "    in Miniconda3: /usr/local\n",
            "\n",
            "real\t0m44.208s\n",
            "user\t0m50.471s\n",
            "sys\t0m7.608s\n",
            "Collecting package metadata (current_repodata.json): ...working... done\n",
            "Solving environment: ...working... done\n",
            "\n",
            "## Package Plan ##\n",
            "\n",
            "  environment location: /usr/local\n",
            "\n",
            "  added / updated specs:\n",
            "    - rdkit\n",
            "\n",
            "\n",
            "The following packages will be UPDATED:\n",
            "\n",
            "  ca-certificates    pkgs/main::ca-certificates-2019.5.15-0 --> conda-forge::ca-certificates-2019.6.16-hecc5488_0\n",
            "  certifi               pkgs/main::certifi-2019.6.16-py37_0 --> conda-forge::certifi-2019.6.16-py37_1\n",
            "  conda                      pkgs/main::conda-4.7.10-py37_0 --> conda-forge::conda-4.7.11-py37_0\n",
            "  lz4-c                 pkgs/main::lz4-c-1.8.1.2-h14c3975_0 --> conda-forge::lz4-c-1.8.3-he1b5a44_1001\n",
            "\n",
            "The following packages will be SUPERSEDED by a higher-priority channel:\n",
            "\n",
            "  openssl              pkgs/main::openssl-1.1.1c-h7b6447c_1 --> conda-forge::openssl-1.1.1c-h516909a_0\n",
            "\n",
            "\n",
            "Preparing transaction: ...working... done\n",
            "Verifying transaction: ...working... done\n",
            "Executing transaction: ...working... done\n",
            "\n",
            "real\t0m11.305s\n",
            "user\t0m10.275s\n",
            "sys\t0m1.020s\n"
          ],
          "name": "stdout"
        }
      ]
    },
    {
      "cell_type": "code",
      "metadata": {
        "id": "Bp0CouRSthbz",
        "colab_type": "code",
        "colab": {}
      },
      "source": [
        "# append rdkit path to current python system path.\n",
        "%matplotlib inline\n",
        "import matplotlib.pyplot as plt\n",
        "import sys\n",
        "import os\n",
        "sys.path.append('/usr/local/lib/python3.7/site-packages/')"
      ],
      "execution_count": 0,
      "outputs": []
    },
    {
      "cell_type": "code",
      "metadata": {
        "id": "R16Y3UW2rCED",
        "colab_type": "code",
        "outputId": "a5ca2341-34de-442a-b129-2b46a2c77310",
        "colab": {
          "base_uri": "https://localhost:8080/",
          "height": 173
        }
      },
      "source": [
        "# Install DeepChem \n",
        "!pip install deepchem"
      ],
      "execution_count": 4,
      "outputs": [
        {
          "output_type": "stream",
          "text": [
            "Collecting deepchem\n",
            "\u001b[?25l  Downloading https://files.pythonhosted.org/packages/05/03/ccdd048c61c070dca8aa572010c7ae39a46caad162ca7a3ecc62881b5124/deepchem-2.2.1.dev54.tar.gz (3.9MB)\n",
            "\u001b[K     |████████████████████████████████| 3.9MB 2.8MB/s \n",
            "\u001b[?25hBuilding wheels for collected packages: deepchem\n",
            "  Building wheel for deepchem (setup.py) ... \u001b[?25l\u001b[?25hdone\n",
            "  Stored in directory: /root/.cache/pip/wheels/c7/49/0f/0b4235337998b7eadd19f137bf648515da501ad09fd63d4ba0\n",
            "Successfully built deepchem\n",
            "Installing collected packages: deepchem\n",
            "Successfully installed deepchem-2.2.1.dev54\n"
          ],
          "name": "stdout"
        }
      ]
    },
    {
      "cell_type": "markdown",
      "metadata": {
        "id": "wLYZPp8na3SC",
        "colab_type": "text"
      },
      "source": [
        "# Importing Libraries"
      ]
    },
    {
      "cell_type": "code",
      "metadata": {
        "id": "UBt35EvLTER5",
        "colab_type": "code",
        "colab": {}
      },
      "source": [
        "import deepchem as dc\n",
        "import numpy as np"
      ],
      "execution_count": 0,
      "outputs": []
    },
    {
      "cell_type": "markdown",
      "metadata": {
        "id": "zNnnD-mTa63r",
        "colab_type": "text"
      },
      "source": [
        "# Loading Data"
      ]
    },
    {
      "cell_type": "markdown",
      "metadata": {
        "id": "6gFmM_WL61fF",
        "colab_type": "text"
      },
      "source": [
        "The goal of this task is to predict the compound activity outcome (active or inactive) in one or more of the 12 pathway assays based on the chemical structure. There are about 10K compunds in this dataset.\n",
        "\n",
        "This example is based on a recent program started by NIH and EPA (see more [here](https://tripod.nih.gov/tox21/challenge/about.jsp)):\n",
        "\n",
        "*The Toxicology in the 21st Century (Tox21) program, a federal collaboration involving NIH, the Environmental Protection Agency, and the Food and Drug Administration, is aimed at developing better toxicity assessment methods. The goal is to quickly and efficiently test whether certain chemical compounds have the potential to disrupt processes in the human body that may lead to adverse health effects.*\n",
        "\n",
        "This dataset can be found in the [MoleculeNet](http://moleculenet.ai/) repository. \n"
      ]
    },
    {
      "cell_type": "code",
      "metadata": {
        "id": "Cu0st3SKxjfK",
        "colab_type": "code",
        "outputId": "d01b2a20-845a-4223-bc12-2f2826536c9f",
        "colab": {
          "base_uri": "https://localhost:8080/",
          "height": 416
        }
      },
      "source": [
        "# Load and process Tox21 toxicity dataset\n",
        "tox21_tasks, tox21_datasets, transformers = dc.molnet.load_tox21()"
      ],
      "execution_count": 7,
      "outputs": [
        {
          "output_type": "stream",
          "text": [
            "Loading raw samples now.\n",
            "shard_size: 8192\n",
            "About to start loading CSV from /tmp/tox21.csv.gz\n",
            "Loading shard 1 of size 8192.\n",
            "Featurizing sample 0\n",
            "Featurizing sample 1000\n",
            "Featurizing sample 2000\n",
            "Featurizing sample 3000\n",
            "Featurizing sample 4000\n",
            "Featurizing sample 5000\n",
            "Featurizing sample 6000\n",
            "Featurizing sample 7000\n",
            "TIMING: featurizing shard 0 took 17.025 s\n",
            "TIMING: dataset construction took 17.405 s\n",
            "Loading dataset from disk.\n",
            "TIMING: dataset construction took 0.459 s\n",
            "Loading dataset from disk.\n",
            "TIMING: dataset construction took 0.404 s\n",
            "Loading dataset from disk.\n",
            "TIMING: dataset construction took 0.214 s\n",
            "Loading dataset from disk.\n",
            "TIMING: dataset construction took 0.214 s\n",
            "Loading dataset from disk.\n"
          ],
          "name": "stdout"
        }
      ]
    },
    {
      "cell_type": "code",
      "metadata": {
        "id": "FtgVQlVgxyTc",
        "colab_type": "code",
        "outputId": "a30cad4b-b8e3-48d5-f354-2aa1b431020f",
        "colab": {
          "base_uri": "https://localhost:8080/",
          "height": 52
        }
      },
      "source": [
        "# Each task corresponds to a particular experiment, \n",
        "# i.e. for an enzymatic assay which measures whether the molecules in tox21 bind with a specific biological target.\n",
        "# NR-AR, NR-AhR, ... are targets. \n",
        "print ('Targets: ', tox21_tasks)\n",
        "print('Number of Tasks: ', len(tox21_tasks))"
      ],
      "execution_count": 8,
      "outputs": [
        {
          "output_type": "stream",
          "text": [
            "Targets:  ['NR-AR', 'NR-AR-LBD', 'NR-AhR', 'NR-Aromatase', 'NR-ER', 'NR-ER-LBD', 'NR-PPAR-gamma', 'SR-ARE', 'SR-ATAD5', 'SR-HSE', 'SR-MMP', 'SR-p53']\n",
            "Number of Tasks:  12\n"
          ],
          "name": "stdout"
        }
      ]
    },
    {
      "cell_type": "markdown",
      "metadata": {
        "id": "0zXRF4Kj65nj",
        "colab_type": "text"
      },
      "source": [
        "### More Information\n",
        "\n",
        "The 12 pathways include:\n",
        "1. estrogen receptor alpha, full (NR-AR)\n",
        "2. estrogen receptor alpha, LBD (NR-AR-LBD)\n",
        "3. aryl hydrocarbon receptor (NR-AhR)\n",
        "4. aromatase (NR-Aromatase)\n",
        "5. androgen receptor, full (NR-ER)\n",
        "6. androgen receptor, LBD (NR-ER-LBD)\n",
        "7. peroxisome proliferator-activated receptor gamma (NR-PPAR-gamma)\n",
        "8. nuclear factor (erythroid-derived 2)-like 2/antioxidant responsive element (SR-ARE)\n",
        "9. SR-ATAD5\n",
        "10. Heat shock factor response element (SR-HSE)\n",
        "11. mitochondrial membrane potential (SR-MMP)\n",
        "12. p53 (SR-p53)\n",
        "\n",
        "\n"
      ]
    },
    {
      "cell_type": "code",
      "metadata": {
        "id": "rGoc3Y3IzYTb",
        "colab_type": "code",
        "outputId": "bebe1377-97f5-40d9-943b-7bd8e7c6162e",
        "colab": {
          "base_uri": "https://localhost:8080/",
          "height": 156
        }
      },
      "source": [
        "# the three datasets represent the training, validation, and test sets\n",
        "# the 12 labels correspond to the 12 tasks\n",
        "train_dataset, valid_dataset, test_dataset = tox21_datasets\n",
        "print('train_dataset X size (samples, features)= ', train_dataset.X.shape)\n",
        "print('train_dataset y size (samples, labels)= ', train_dataset.y.shape, '\\n')\n",
        "\n",
        "print('valid_dataset X size (samples, features)= ', valid_dataset.X.shape)\n",
        "print('valid_dataset y size (samples, labels)= ', valid_dataset.y.shape, '\\n')\n",
        "\n",
        "print('test_dataset X size (samples, features)= ', test_dataset.X.shape)\n",
        "print('test_dataset y size (samples, labels)= ', test_dataset.y.shape)"
      ],
      "execution_count": 9,
      "outputs": [
        {
          "output_type": "stream",
          "text": [
            "train_dataset X size (samples, features)=  (6264, 1024)\n",
            "train_dataset y size (samples, labels)=  (6264, 12) \n",
            "\n",
            "valid_dataset X size (samples, features)=  (783, 1024)\n",
            "valid_dataset y size (samples, labels)=  (783, 12) \n",
            "\n",
            "test_dataset X size (samples, features)=  (784, 1024)\n",
            "test_dataset y size (samples, labels)=  (784, 12)\n"
          ],
          "name": "stdout"
        }
      ]
    },
    {
      "cell_type": "code",
      "metadata": {
        "id": "Z0I9It6g5oVY",
        "colab_type": "code",
        "outputId": "935d2018-80d1-46b3-b5a1-174d31f36049",
        "colab": {
          "base_uri": "https://localhost:8080/",
          "height": 69
        }
      },
      "source": [
        "# Tox21 did not test every molecule in every task, i.e. some of the 12 labels are meaningless placeholders for some molecules.\n",
        "# In such cases, the cprresonding w is zero, representing missing experiments.\n",
        "print('train_dataset w size (samples, weights)= ', train_dataset.w.shape)\n",
        "print('Number of non-zero weights in the training set: ', np.count_nonzero(train_dataset.w))\n",
        "print('Number of zero weights (missing experiments): ', np.count_nonzero(train_dataset.w == 0))"
      ],
      "execution_count": 10,
      "outputs": [
        {
          "output_type": "stream",
          "text": [
            "train_dataset w size (samples, weights)=  (6264, 12)\n",
            "Number of non-zero weights in the training set:  62166\n",
            "Number of zero weights (missing experiments):  13002\n"
          ],
          "name": "stdout"
        }
      ]
    },
    {
      "cell_type": "code",
      "metadata": {
        "id": "Hs9867v37jNg",
        "colab_type": "code",
        "outputId": "ae6954d7-7de6-4643-a543-ac5d0412ca27",
        "colab": {
          "base_uri": "https://localhost:8080/",
          "height": 35
        }
      },
      "source": [
        "# The Balancing Transformer adjusts the weights for individual data points (over 90% of the weights are zero).\n",
        "transformers"
      ],
      "execution_count": 14,
      "outputs": [
        {
          "output_type": "execute_result",
          "data": {
            "text/plain": [
              "[<deepchem.trans.transformers.BalancingTransformer at 0x7fba82a3c198>]"
            ]
          },
          "metadata": {
            "tags": []
          },
          "execution_count": 14
        }
      ]
    },
    {
      "cell_type": "markdown",
      "metadata": {
        "id": "DbuY50-fbBiy",
        "colab_type": "text"
      },
      "source": [
        "# Training the Model"
      ]
    },
    {
      "cell_type": "code",
      "metadata": {
        "id": "GrV5j33Z7u4L",
        "colab_type": "code",
        "colab": {}
      },
      "source": [
        "# define a fully connected network with 12 output nodes and a single hidden layer with 1,000 nodes\n",
        "model = dc.models.MultitaskClassifier(n_tasks=12, n_features=1024, layer_sizes=[1000])"
      ],
      "execution_count": 0,
      "outputs": []
    },
    {
      "cell_type": "code",
      "metadata": {
        "id": "1-auyUmN86lq",
        "colab_type": "code",
        "outputId": "4471a336-c32d-4296-c372-4c9968c86082",
        "colab": {
          "base_uri": "https://localhost:8080/",
          "height": 315
        }
      },
      "source": [
        "# fit to data\n",
        "model.fit(train_dataset, nb_epoch=10)"
      ],
      "execution_count": 16,
      "outputs": [
        {
          "output_type": "stream",
          "text": [
            "WARNING: Logging before flag parsing goes to stderr.\n",
            "W0828 20:48:51.576301 140439255508864 deprecation_wrapper.py:119] From /usr/local/lib/python3.7/site-packages/deepchem/models/tensorgraph/tensor_graph.py:715: The name tf.placeholder is deprecated. Please use tf.compat.v1.placeholder instead.\n",
            "\n",
            "W0828 20:48:51.587562 140439255508864 deprecation_wrapper.py:119] From /usr/local/lib/python3.7/site-packages/deepchem/models/tensorgraph/layers.py:2464: The name tf.FIFOQueue is deprecated. Please use tf.queue.FIFOQueue instead.\n",
            "\n",
            "W0828 20:48:51.600764 140439255508864 deprecation_wrapper.py:119] From /usr/local/lib/python3.7/site-packages/deepchem/models/tensorgraph/layers.py:1216: The name tf.placeholder_with_default is deprecated. Please use tf.compat.v1.placeholder_with_default instead.\n",
            "\n",
            "W0828 20:48:51.751803 140439255508864 deprecation_wrapper.py:119] From /usr/local/lib/python3.7/site-packages/deepchem/models/tensorgraph/tensor_graph.py:728: The name tf.Session is deprecated. Please use tf.compat.v1.Session instead.\n",
            "\n",
            "W0828 20:48:51.788164 140439255508864 deprecation_wrapper.py:119] From /usr/local/lib/python3.7/site-packages/deepchem/models/tensorgraph/optimizers.py:76: The name tf.train.AdamOptimizer is deprecated. Please use tf.compat.v1.train.AdamOptimizer instead.\n",
            "\n",
            "W0828 20:48:51.933441 140439255508864 deprecation_wrapper.py:119] From /usr/local/lib/python3.7/site-packages/deepchem/models/tensorgraph/tensor_graph.py:1013: The name tf.get_collection is deprecated. Please use tf.compat.v1.get_collection instead.\n",
            "\n",
            "W0828 20:48:52.186670 140439255508864 deprecation_wrapper.py:119] From /usr/local/lib/python3.7/site-packages/deepchem/models/tensorgraph/tensor_graph.py:749: The name tf.summary.scalar is deprecated. Please use tf.compat.v1.summary.scalar instead.\n",
            "\n"
          ],
          "name": "stderr"
        },
        {
          "output_type": "execute_result",
          "data": {
            "text/plain": [
              "809.6898889935206"
            ]
          },
          "metadata": {
            "tags": []
          },
          "execution_count": 16
        }
      ]
    },
    {
      "cell_type": "markdown",
      "metadata": {
        "id": "gLH6y6azbF8a",
        "colab_type": "text"
      },
      "source": [
        "# Evaluating the Model"
      ]
    },
    {
      "cell_type": "code",
      "metadata": {
        "id": "7I932NuS9HKq",
        "colab_type": "code",
        "outputId": "989161e2-3018-4209-c4cf-5ed1a5904c5e",
        "colab": {
          "base_uri": "https://localhost:8080/",
          "height": 72
        }
      },
      "source": [
        "# evaluate the model\n",
        "metric = dc.metrics.Metric(dc.metrics.roc_auc_score,np.mean)\n",
        "train_scores = model.evaluate(train_dataset, [metric], transformers)\n",
        "test_scores = model.evaluate(test_dataset, [metric], transformers)"
      ],
      "execution_count": 17,
      "outputs": [
        {
          "output_type": "stream",
          "text": [
            "computed_metrics: [0.9912407414588746, 0.9961745343609505, 0.9590777287652527, 0.98010221828099, 0.9047563637975553, 0.9826244234555003, 0.9901381586563183, 0.9043029298787376, 0.9862992664407062, 0.9689020349391946, 0.9444702011880124, 0.97462885271578]\n",
            "computed_metrics: [0.7723298284449363, 0.863822851683246, 0.8993922593026975, 0.8125915846765752, 0.7106472907906489, 0.8043376710043377, 0.7350215160542866, 0.7142704201226109, 0.8608110862033829, 0.7101598549769281, 0.872194047223146, 0.8011363636363638]\n"
          ],
          "name": "stdout"
        }
      ]
    },
    {
      "cell_type": "code",
      "metadata": {
        "id": "_SLNLLmt91uJ",
        "colab_type": "code",
        "outputId": "4eb5a045-9041-4801-a224-32aa228443b2",
        "colab": {
          "base_uri": "https://localhost:8080/",
          "height": 52
        }
      },
      "source": [
        "print('train_scores:', train_scores)\n",
        "print('test_scores: ', test_scores)"
      ],
      "execution_count": 0,
      "outputs": [
        {
          "output_type": "stream",
          "text": [
            "train_scores: {'mean-roc_auc_score': 0.9646639567598659}\n",
            "test_scores:  {'mean-roc_auc_score': 0.7926642120599715}\n"
          ],
          "name": "stdout"
        }
      ]
    },
    {
      "cell_type": "code",
      "metadata": {
        "id": "_Aygp7kt-9H4",
        "colab_type": "code",
        "colab": {}
      },
      "source": [
        ""
      ],
      "execution_count": 0,
      "outputs": []
    }
  ]
}