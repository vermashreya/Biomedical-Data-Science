{
  "nbformat": 4,
  "nbformat_minor": 0,
  "metadata": {
    "anaconda-cloud": {},
    "kernelspec": {
      "display_name": "Python 3",
      "language": "python",
      "name": "python3"
    },
    "language_info": {
      "codemirror_mode": {
        "name": "ipython",
        "version": 3
      },
      "file_extension": ".py",
      "mimetype": "text/x-python",
      "name": "python",
      "nbconvert_exporter": "python",
      "pygments_lexer": "ipython3",
      "version": "3.6.8"
    },
    "colab": {
      "name": "numpy-basics.ipynb",
      "version": "0.3.2",
      "provenance": [],
      "collapsed_sections": [
        "4fbj_WDe3sxM"
      ]
    }
  },
  "cells": [
    {
      "cell_type": "markdown",
      "metadata": {
        "id": "4fbj_WDe3sxM",
        "colab_type": "text"
      },
      "source": [
        "# Credit"
      ]
    },
    {
      "cell_type": "markdown",
      "metadata": {
        "id": "jsbhPmRMl2yG",
        "colab_type": "text"
      },
      "source": [
        "This notebook is adapted based on:\n",
        "\n",
        "J.R. Johansson (robert@riken.jp) http://dml.riken.jp/~rob/\n",
        "\n",
        "The latest version of this IPython notebook lecture is available at http://github.com/jrjohansson/scientific-python-lectures.\n",
        "\n",
        "The other notebooks in this lecture series are indexed at http://jrjohansson.github.com.\n",
        "this notebook is based on the SciPy NumPy tutorial"
      ]
    },
    {
      "cell_type": "markdown",
      "metadata": {
        "id": "riWWl0MllpIe",
        "colab_type": "text"
      },
      "source": [
        "# Importing Libraries"
      ]
    },
    {
      "cell_type": "markdown",
      "metadata": {
        "id": "oyJBQPms3sxO",
        "colab_type": "text"
      },
      "source": [
        "Note that the traditional way to import `numpy` is to rename it `np`.  This saves on typing and makes your code a little more compact."
      ]
    },
    {
      "cell_type": "code",
      "metadata": {
        "id": "0JN8YIxk3sxQ",
        "colab_type": "code",
        "colab": {}
      },
      "source": [
        "import numpy as np"
      ],
      "execution_count": 0,
      "outputs": []
    },
    {
      "cell_type": "markdown",
      "metadata": {
        "id": "6EHBh_R_3sxU",
        "colab_type": "text"
      },
      "source": [
        "# Array Creation and Properties"
      ]
    },
    {
      "cell_type": "markdown",
      "metadata": {
        "id": "2S1aIqgm3sxV",
        "colab_type": "text"
      },
      "source": [
        "Here we create an array using `arange` and then change its shape to 3 rows and 5 columns.  Note the row-major ordering -- you'll see that the rows are together in the inner []"
      ]
    },
    {
      "cell_type": "code",
      "metadata": {
        "id": "IT217Gyt3sxW",
        "colab_type": "code",
        "outputId": "36014d79-59f9-44a2-e284-e21519d03e6a",
        "colab": {
          "base_uri": "https://localhost:8080/",
          "height": 69
        }
      },
      "source": [
        "a = np.arange(15).reshape(3,5)\n",
        "\n",
        "print(a)"
      ],
      "execution_count": 62,
      "outputs": [
        {
          "output_type": "stream",
          "text": [
            "[[ 0  1  2  3  4]\n",
            " [ 5  6  7  8  9]\n",
            " [10 11 12 13 14]]\n"
          ],
          "name": "stdout"
        }
      ]
    },
    {
      "cell_type": "markdown",
      "metadata": {
        "id": "HK0aesqV3sxc",
        "colab_type": "text"
      },
      "source": [
        "A numpy array has a lot of meta-data associated with it describing its shape, datatype, etc."
      ]
    },
    {
      "cell_type": "code",
      "metadata": {
        "id": "4rwgwdFh3sxc",
        "colab_type": "code",
        "outputId": "7cba3ab9-62e9-4325-8608-7c376e9e909e",
        "colab": {
          "base_uri": "https://localhost:8080/",
          "height": 52
        }
      },
      "source": [
        "print(a.ndim)\n",
        "print(a.shape)"
      ],
      "execution_count": 63,
      "outputs": [
        {
          "output_type": "stream",
          "text": [
            "2\n",
            "(3, 5)\n"
          ],
          "name": "stdout"
        }
      ]
    },
    {
      "cell_type": "code",
      "metadata": {
        "id": "T2ZuUdRY3sxh",
        "colab_type": "code",
        "outputId": "eb0f48f5-e040-4c3d-c72e-f4597f4f65cc",
        "colab": {
          "base_uri": "https://localhost:8080/",
          "height": 35
        }
      },
      "source": [
        "print(a.size)"
      ],
      "execution_count": 64,
      "outputs": [
        {
          "output_type": "stream",
          "text": [
            "15\n"
          ],
          "name": "stdout"
        }
      ]
    },
    {
      "cell_type": "code",
      "metadata": {
        "id": "i5GskcKH3sxk",
        "colab_type": "code",
        "outputId": "16bb8498-9c62-47e4-a26e-ce1795e6f379",
        "colab": {
          "base_uri": "https://localhost:8080/",
          "height": 35
        }
      },
      "source": [
        "print(a.dtype)"
      ],
      "execution_count": 65,
      "outputs": [
        {
          "output_type": "stream",
          "text": [
            "int64\n"
          ],
          "name": "stdout"
        }
      ]
    },
    {
      "cell_type": "code",
      "metadata": {
        "id": "hVlA3nB13sxp",
        "colab_type": "code",
        "outputId": "97fdd557-2d85-4ddb-8ee9-20e66cd13a1a",
        "colab": {
          "base_uri": "https://localhost:8080/",
          "height": 35
        }
      },
      "source": [
        "print(type(a))"
      ],
      "execution_count": 66,
      "outputs": [
        {
          "output_type": "stream",
          "text": [
            "<class 'numpy.ndarray'>\n"
          ],
          "name": "stdout"
        }
      ]
    },
    {
      "cell_type": "markdown",
      "metadata": {
        "id": "FdrYTgRw3sxs",
        "colab_type": "text"
      },
      "source": [
        "we can create an array from a list"
      ]
    },
    {
      "cell_type": "code",
      "metadata": {
        "id": "3_CytX_g3sxt",
        "colab_type": "code",
        "outputId": "d436edd0-a3c4-40e5-e8db-4271796b5f32",
        "colab": {
          "base_uri": "https://localhost:8080/",
          "height": 52
        }
      },
      "source": [
        "b = np.array( [1.0, 2.0, 3.0, 4.0] )\n",
        "print(b)\n",
        "print(b.dtype)"
      ],
      "execution_count": 67,
      "outputs": [
        {
          "output_type": "stream",
          "text": [
            "[1. 2. 3. 4.]\n",
            "float64\n"
          ],
          "name": "stdout"
        }
      ]
    },
    {
      "cell_type": "markdown",
      "metadata": {
        "id": "EzoM3FDI3sxw",
        "colab_type": "text"
      },
      "source": [
        "we can create a multi-dimensional array of a specified size initialized all to 0 easily.  There is also an analogous ones() and empty() array routine.  Note that here we explicitly set the datatype for the array. \n",
        "\n",
        "Unlike lists in python, all of the elements of a numpy array are of the same datatype"
      ]
    },
    {
      "cell_type": "code",
      "metadata": {
        "id": "8Yv7l_qK3sxx",
        "colab_type": "code",
        "outputId": "6141d378-be97-4375-db90-621ea7d12888",
        "colab": {
          "base_uri": "https://localhost:8080/",
          "height": 191
        }
      },
      "source": [
        "c = np.zeros( (10,7), dtype=np.float64)\n",
        "print(c)"
      ],
      "execution_count": 68,
      "outputs": [
        {
          "output_type": "stream",
          "text": [
            "[[0. 0. 0. 0. 0. 0. 0.]\n",
            " [0. 0. 0. 0. 0. 0. 0.]\n",
            " [0. 0. 0. 0. 0. 0. 0.]\n",
            " [0. 0. 0. 0. 0. 0. 0.]\n",
            " [0. 0. 0. 0. 0. 0. 0.]\n",
            " [0. 0. 0. 0. 0. 0. 0.]\n",
            " [0. 0. 0. 0. 0. 0. 0.]\n",
            " [0. 0. 0. 0. 0. 0. 0.]\n",
            " [0. 0. 0. 0. 0. 0. 0.]\n",
            " [0. 0. 0. 0. 0. 0. 0.]]\n"
          ],
          "name": "stdout"
        }
      ]
    },
    {
      "cell_type": "markdown",
      "metadata": {
        "id": "TB_i34bs3sx1",
        "colab_type": "text"
      },
      "source": [
        "`linspace` (and `logspace`) create arrays with evenly space (in log) numbers.  For `logspace`, you specify the start and ending powers (`base**start` to `base**stop`)"
      ]
    },
    {
      "cell_type": "code",
      "metadata": {
        "id": "ORbHSFoC3sx2",
        "colab_type": "code",
        "outputId": "d2e64daa-9d13-4eff-bbe6-7f027647d79a",
        "colab": {
          "base_uri": "https://localhost:8080/",
          "height": 35
        }
      },
      "source": [
        "d = np.linspace(0, 1, 11, endpoint=True)\n",
        "print(d)"
      ],
      "execution_count": 15,
      "outputs": [
        {
          "output_type": "stream",
          "text": [
            "[0.  0.1 0.2 0.3 0.4 0.5 0.6 0.7 0.8 0.9 1. ]\n"
          ],
          "name": "stdout"
        }
      ]
    },
    {
      "cell_type": "code",
      "metadata": {
        "id": "3qaSfitw3sx4",
        "colab_type": "code",
        "outputId": "9beb536e-d935-4a33-94ba-f1b86ed6895e",
        "colab": {
          "base_uri": "https://localhost:8080/",
          "height": 69
        }
      },
      "source": [
        "\n",
        "e = np.logspace(-1, 2, 15, endpoint= False, base=10) \n",
        "print(e) "
      ],
      "execution_count": 70,
      "outputs": [
        {
          "output_type": "stream",
          "text": [
            "[ 0.1         0.15848932  0.25118864  0.39810717  0.63095734  1.\n",
            "  1.58489319  2.51188643  3.98107171  6.30957344 10.         15.84893192\n",
            " 25.11886432 39.81071706 63.09573445]\n"
          ],
          "name": "stdout"
        }
      ]
    },
    {
      "cell_type": "markdown",
      "metadata": {
        "id": "EqSt-ebk3sx7",
        "colab_type": "text"
      },
      "source": [
        "As always, as for help -- the numpy functions have very nice docstrings. Press Tab inside the paranethese to show documentations. "
      ]
    },
    {
      "cell_type": "code",
      "metadata": {
        "id": "xbLf-t1H3sx9",
        "colab_type": "code",
        "outputId": "d418b2c1-e1c3-49de-f1d0-ec0bb40dfd2e",
        "colab": {
          "base_uri": "https://localhost:8080/",
          "height": 1000
        }
      },
      "source": [
        "help(np.logspace)"
      ],
      "execution_count": 73,
      "outputs": [
        {
          "output_type": "stream",
          "text": [
            "Help on function logspace in module numpy:\n",
            "\n",
            "logspace(start, stop, num=50, endpoint=True, base=10.0, dtype=None, axis=0)\n",
            "    Return numbers spaced evenly on a log scale.\n",
            "    \n",
            "    In linear space, the sequence starts at ``base ** start``\n",
            "    (`base` to the power of `start`) and ends with ``base ** stop``\n",
            "    (see `endpoint` below).\n",
            "    \n",
            "    .. versionchanged:: 1.16.0\n",
            "        Non-scalar `start` and `stop` are now supported.\n",
            "    \n",
            "    Parameters\n",
            "    ----------\n",
            "    start : array_like\n",
            "        ``base ** start`` is the starting value of the sequence.\n",
            "    stop : array_like\n",
            "        ``base ** stop`` is the final value of the sequence, unless `endpoint`\n",
            "        is False.  In that case, ``num + 1`` values are spaced over the\n",
            "        interval in log-space, of which all but the last (a sequence of\n",
            "        length `num`) are returned.\n",
            "    num : integer, optional\n",
            "        Number of samples to generate.  Default is 50.\n",
            "    endpoint : boolean, optional\n",
            "        If true, `stop` is the last sample. Otherwise, it is not included.\n",
            "        Default is True.\n",
            "    base : float, optional\n",
            "        The base of the log space. The step size between the elements in\n",
            "        ``ln(samples) / ln(base)`` (or ``log_base(samples)``) is uniform.\n",
            "        Default is 10.0.\n",
            "    dtype : dtype\n",
            "        The type of the output array.  If `dtype` is not given, infer the data\n",
            "        type from the other input arguments.\n",
            "    axis : int, optional\n",
            "        The axis in the result to store the samples.  Relevant only if start\n",
            "        or stop are array-like.  By default (0), the samples will be along a\n",
            "        new axis inserted at the beginning. Use -1 to get an axis at the end.\n",
            "    \n",
            "        .. versionadded:: 1.16.0\n",
            "    \n",
            "    \n",
            "    Returns\n",
            "    -------\n",
            "    samples : ndarray\n",
            "        `num` samples, equally spaced on a log scale.\n",
            "    \n",
            "    See Also\n",
            "    --------\n",
            "    arange : Similar to linspace, with the step size specified instead of the\n",
            "             number of samples. Note that, when used with a float endpoint, the\n",
            "             endpoint may or may not be included.\n",
            "    linspace : Similar to logspace, but with the samples uniformly distributed\n",
            "               in linear space, instead of log space.\n",
            "    geomspace : Similar to logspace, but with endpoints specified directly.\n",
            "    \n",
            "    Notes\n",
            "    -----\n",
            "    Logspace is equivalent to the code\n",
            "    \n",
            "    >>> y = np.linspace(start, stop, num=num, endpoint=endpoint)\n",
            "    ... # doctest: +SKIP\n",
            "    >>> power(base, y).astype(dtype)\n",
            "    ... # doctest: +SKIP\n",
            "    \n",
            "    Examples\n",
            "    --------\n",
            "    >>> np.logspace(2.0, 3.0, num=4)\n",
            "    array([  100.        ,   215.443469  ,   464.15888336,  1000.        ])\n",
            "    >>> np.logspace(2.0, 3.0, num=4, endpoint=False)\n",
            "    array([ 100.        ,  177.827941  ,  316.22776602,  562.34132519])\n",
            "    >>> np.logspace(2.0, 3.0, num=4, base=2.0)\n",
            "    array([ 4.        ,  5.0396842 ,  6.34960421,  8.        ])\n",
            "    \n",
            "    Graphical illustration:\n",
            "    \n",
            "    >>> import matplotlib.pyplot as plt\n",
            "    >>> N = 10\n",
            "    >>> x1 = np.logspace(0.1, 1, N, endpoint=True)\n",
            "    >>> x2 = np.logspace(0.1, 1, N, endpoint=False)\n",
            "    >>> y = np.zeros(N)\n",
            "    >>> plt.plot(x1, y, 'o')\n",
            "    [<matplotlib.lines.Line2D object at 0x...>]\n",
            "    >>> plt.plot(x2, y + 0.5, 'o')\n",
            "    [<matplotlib.lines.Line2D object at 0x...>]\n",
            "    >>> plt.ylim([-0.5, 1])\n",
            "    (-0.5, 1)\n",
            "    >>> plt.show()\n",
            "\n"
          ],
          "name": "stdout"
        }
      ]
    },
    {
      "cell_type": "markdown",
      "metadata": {
        "id": "NJDg00H23syH",
        "colab_type": "text"
      },
      "source": [
        "# Array Operations"
      ]
    },
    {
      "cell_type": "markdown",
      "metadata": {
        "id": "oHuMcGrN3syI",
        "colab_type": "text"
      },
      "source": [
        "most operations will work on an entire array at once"
      ]
    },
    {
      "cell_type": "code",
      "metadata": {
        "id": "EWZeaoIj3syI",
        "colab_type": "code",
        "outputId": "88ad3a6e-5512-4652-dd5f-fb117e434445",
        "colab": {
          "base_uri": "https://localhost:8080/",
          "height": 69
        }
      },
      "source": [
        "a = np.arange(12).reshape(3,4)\n",
        "print(a)"
      ],
      "execution_count": 74,
      "outputs": [
        {
          "output_type": "stream",
          "text": [
            "[[ 0  1  2  3]\n",
            " [ 4  5  6  7]\n",
            " [ 8  9 10 11]]\n"
          ],
          "name": "stdout"
        }
      ]
    },
    {
      "cell_type": "code",
      "metadata": {
        "id": "RTzCFUQK3syM",
        "colab_type": "code",
        "outputId": "26849939-405f-41a8-c989-feb61d886a10",
        "colab": {
          "base_uri": "https://localhost:8080/",
          "height": 35
        }
      },
      "source": [
        "a.sum(axis=0)"
      ],
      "execution_count": 75,
      "outputs": [
        {
          "output_type": "execute_result",
          "data": {
            "text/plain": [
              "array([12, 15, 18, 21])"
            ]
          },
          "metadata": {
            "tags": []
          },
          "execution_count": 75
        }
      ]
    },
    {
      "cell_type": "code",
      "metadata": {
        "id": "AaB5zl543syO",
        "colab_type": "code",
        "outputId": "1a7261f4-8303-45ed-8eb0-49116f17273a",
        "colab": {
          "base_uri": "https://localhost:8080/",
          "height": 35
        }
      },
      "source": [
        "a.sum()"
      ],
      "execution_count": 76,
      "outputs": [
        {
          "output_type": "execute_result",
          "data": {
            "text/plain": [
              "66"
            ]
          },
          "metadata": {
            "tags": []
          },
          "execution_count": 76
        }
      ]
    },
    {
      "cell_type": "code",
      "metadata": {
        "id": "wD7IK4N93syR",
        "colab_type": "code",
        "outputId": "9811e3eb-b90c-491d-e49f-8034f967c0d5",
        "colab": {
          "base_uri": "https://localhost:8080/",
          "height": 35
        }
      },
      "source": [
        "print(a.min(), a.max())"
      ],
      "execution_count": 27,
      "outputs": [
        {
          "output_type": "stream",
          "text": [
            "0 11\n"
          ],
          "name": "stdout"
        }
      ]
    },
    {
      "cell_type": "markdown",
      "metadata": {
        "id": "BflQrcRH3sye",
        "colab_type": "text"
      },
      "source": [
        "# Slicing"
      ]
    },
    {
      "cell_type": "markdown",
      "metadata": {
        "id": "vLcjsC4M3syf",
        "colab_type": "text"
      },
      "source": [
        "slicing works very similarly to how we saw with strings"
      ]
    },
    {
      "cell_type": "code",
      "metadata": {
        "id": "aUmw4pDuqtsh",
        "colab_type": "code",
        "colab": {
          "base_uri": "https://localhost:8080/",
          "height": 104
        },
        "outputId": "316221db-f6c0-42b5-da0d-b11a3c902156"
      },
      "source": [
        "def myFun(x,y): \n",
        "    return 10*x+y\n",
        "\n",
        "g = np.fromfunction(myFun, (5,4), dtype=int)\n",
        "g"
      ],
      "execution_count": 77,
      "outputs": [
        {
          "output_type": "execute_result",
          "data": {
            "text/plain": [
              "array([[ 0,  1,  2,  3],\n",
              "       [10, 11, 12, 13],\n",
              "       [20, 21, 22, 23],\n",
              "       [30, 31, 32, 33],\n",
              "       [40, 41, 42, 43]])"
            ]
          },
          "metadata": {
            "tags": []
          },
          "execution_count": 77
        }
      ]
    },
    {
      "cell_type": "code",
      "metadata": {
        "id": "RAGCA4TP3syg",
        "colab_type": "code",
        "outputId": "5f7ed401-5aeb-458e-dad7-7d3455f2ad28",
        "colab": {
          "base_uri": "https://localhost:8080/",
          "height": 104
        }
      },
      "source": [
        "a = np.fromfunction(myFun, (5,4),dtype=int)\n",
        "print(a)"
      ],
      "execution_count": 78,
      "outputs": [
        {
          "output_type": "stream",
          "text": [
            "[[ 0  1  2  3]\n",
            " [10 11 12 13]\n",
            " [20 21 22 23]\n",
            " [30 31 32 33]\n",
            " [40 41 42 43]]\n"
          ],
          "name": "stdout"
        }
      ]
    },
    {
      "cell_type": "markdown",
      "metadata": {
        "id": "8-picTxd3syi",
        "colab_type": "text"
      },
      "source": [
        "Giving a single index (0-based) for each dimension just references a single value in the array"
      ]
    },
    {
      "cell_type": "code",
      "metadata": {
        "id": "-6bcsqId3syj",
        "colab_type": "code",
        "outputId": "838cbd0a-a568-4151-e8cb-cce06152f75d",
        "colab": {
          "base_uri": "https://localhost:8080/",
          "height": 35
        }
      },
      "source": [
        "a[1,1]"
      ],
      "execution_count": 35,
      "outputs": [
        {
          "output_type": "execute_result",
          "data": {
            "text/plain": [
              "11"
            ]
          },
          "metadata": {
            "tags": []
          },
          "execution_count": 35
        }
      ]
    },
    {
      "cell_type": "markdown",
      "metadata": {
        "id": "lu-VGBd03sym",
        "colab_type": "text"
      },
      "source": [
        "Doing slices will access a range of elements.  Think of the start and stop in the slice as referencing the left-edge of the slots in the array."
      ]
    },
    {
      "cell_type": "code",
      "metadata": {
        "id": "SbH40kYJ3sym",
        "colab_type": "code",
        "outputId": "ec5ab78b-0f93-4c0a-d272-97bad517989b",
        "colab": {
          "base_uri": "https://localhost:8080/",
          "height": 52
        }
      },
      "source": [
        "a[0:2,0:2]"
      ],
      "execution_count": 37,
      "outputs": [
        {
          "output_type": "execute_result",
          "data": {
            "text/plain": [
              "array([[ 0,  1],\n",
              "       [10, 11]])"
            ]
          },
          "metadata": {
            "tags": []
          },
          "execution_count": 37
        }
      ]
    },
    {
      "cell_type": "code",
      "metadata": {
        "id": "Djpvt4CU3syp",
        "colab_type": "code",
        "outputId": "3dd31b89-9762-426a-aca2-abf9c2ec73d1",
        "colab": {
          "base_uri": "https://localhost:8080/",
          "height": 35
        }
      },
      "source": [
        "a[:,1]"
      ],
      "execution_count": 41,
      "outputs": [
        {
          "output_type": "execute_result",
          "data": {
            "text/plain": [
              "array([ 1, 11, 21, 31, 41])"
            ]
          },
          "metadata": {
            "tags": []
          },
          "execution_count": 41
        }
      ]
    },
    {
      "cell_type": "markdown",
      "metadata": {
        "id": "asDTLT3z3sys",
        "colab_type": "text"
      },
      "source": [
        "Sometimes we want a one-dimensional view into the array -- here we see the memory layout (row-major) more explicitly"
      ]
    },
    {
      "cell_type": "code",
      "metadata": {
        "id": "HJjMTmTb3sys",
        "colab_type": "code",
        "outputId": "e36d920c-1c37-4f7d-88b1-adc577abfe06",
        "colab": {
          "base_uri": "https://localhost:8080/",
          "height": 52
        }
      },
      "source": [
        "a.flatten()"
      ],
      "execution_count": 42,
      "outputs": [
        {
          "output_type": "execute_result",
          "data": {
            "text/plain": [
              "array([ 0,  1,  2,  3, 10, 11, 12, 13, 20, 21, 22, 23, 30, 31, 32, 33, 40,\n",
              "       41, 42, 43])"
            ]
          },
          "metadata": {
            "tags": []
          },
          "execution_count": 42
        }
      ]
    },
    {
      "cell_type": "markdown",
      "metadata": {
        "id": "7mPFQPaY3syu",
        "colab_type": "text"
      },
      "source": [
        "we can also iterate -- this is done over the first axis"
      ]
    },
    {
      "cell_type": "markdown",
      "metadata": {
        "id": "LUwHYdiJ3sy0",
        "colab_type": "text"
      },
      "source": [
        "# Copying Arrays"
      ]
    },
    {
      "cell_type": "markdown",
      "metadata": {
        "id": "gPCPM1Ea3sy2",
        "colab_type": "text"
      },
      "source": [
        "simply using \"=\" does not make a copy, but much like with lists, you will just have multiple names pointing to the same ndarray object"
      ]
    },
    {
      "cell_type": "code",
      "metadata": {
        "id": "guyOUZ603sy2",
        "colab_type": "code",
        "outputId": "3bca8288-1578-437d-f7ec-d5baaf665ac6",
        "colab": {
          "base_uri": "https://localhost:8080/",
          "height": 35
        }
      },
      "source": [
        "a = np.arange(10)\n",
        "print(a)\n"
      ],
      "execution_count": 81,
      "outputs": [
        {
          "output_type": "stream",
          "text": [
            "[0 1 2 3 4 5 6 7 8 9]\n"
          ],
          "name": "stdout"
        }
      ]
    },
    {
      "cell_type": "code",
      "metadata": {
        "id": "a5HopvDE3sy9",
        "colab_type": "code",
        "outputId": "8d89db35-907c-49a6-8a2b-9f67c17aa261",
        "colab": {
          "base_uri": "https://localhost:8080/",
          "height": 35
        }
      },
      "source": [
        "b = a\n",
        "b is a"
      ],
      "execution_count": 82,
      "outputs": [
        {
          "output_type": "execute_result",
          "data": {
            "text/plain": [
              "True"
            ]
          },
          "metadata": {
            "tags": []
          },
          "execution_count": 82
        }
      ]
    },
    {
      "cell_type": "markdown",
      "metadata": {
        "id": "WoJXczN13sy-",
        "colab_type": "text"
      },
      "source": [
        "Since `b` and `a` are the same, changes to the shape of one are reflected in the other -- no copy is made."
      ]
    },
    {
      "cell_type": "code",
      "metadata": {
        "id": "5nXszJAB3sy-",
        "colab_type": "code",
        "outputId": "28c6cd51-0053-48dc-d949-bd70750a7953",
        "colab": {
          "base_uri": "https://localhost:8080/",
          "height": 69
        }
      },
      "source": [
        "b.shape = (2,5)\n",
        "print(b)\n",
        "a.shape"
      ],
      "execution_count": 83,
      "outputs": [
        {
          "output_type": "stream",
          "text": [
            "[[0 1 2 3 4]\n",
            " [5 6 7 8 9]]\n"
          ],
          "name": "stdout"
        },
        {
          "output_type": "execute_result",
          "data": {
            "text/plain": [
              "(2, 5)"
            ]
          },
          "metadata": {
            "tags": []
          },
          "execution_count": 83
        }
      ]
    },
    {
      "cell_type": "code",
      "metadata": {
        "id": "0VqA4lzH3szB",
        "colab_type": "code",
        "outputId": "225ac9b3-9790-4a9b-ddd4-55d89495a4d8",
        "colab": {
          "base_uri": "https://localhost:8080/",
          "height": 35
        }
      },
      "source": [
        "b is a"
      ],
      "execution_count": 47,
      "outputs": [
        {
          "output_type": "execute_result",
          "data": {
            "text/plain": [
              "True"
            ]
          },
          "metadata": {
            "tags": []
          },
          "execution_count": 47
        }
      ]
    },
    {
      "cell_type": "code",
      "metadata": {
        "id": "czWd3gSA3szD",
        "colab_type": "code",
        "outputId": "990fe076-0772-4060-d224-1f85606504fe",
        "colab": {
          "base_uri": "https://localhost:8080/",
          "height": 52
        }
      },
      "source": [
        "print(a)"
      ],
      "execution_count": 84,
      "outputs": [
        {
          "output_type": "stream",
          "text": [
            "[[0 1 2 3 4]\n",
            " [5 6 7 8 9]]\n"
          ],
          "name": "stdout"
        }
      ]
    },
    {
      "cell_type": "markdown",
      "metadata": {
        "id": "Ibv6rllD3szE",
        "colab_type": "text"
      },
      "source": [
        "a shallow copy creates a new *view* into the array -- the data is the same, but the array properties can be different"
      ]
    },
    {
      "cell_type": "code",
      "metadata": {
        "id": "ZqPk8BH13szF",
        "colab_type": "code",
        "outputId": "dbf8e6e6-deb4-48ad-ba50-a2f43b7b2b82",
        "colab": {
          "base_uri": "https://localhost:8080/",
          "height": 87
        }
      },
      "source": [
        "a = np.arange(12)\n",
        "c = a[:]\n",
        "a.shape = (3,4)\n",
        "\n",
        "print(a)\n",
        "print(c)"
      ],
      "execution_count": 85,
      "outputs": [
        {
          "output_type": "stream",
          "text": [
            "[[ 0  1  2  3]\n",
            " [ 4  5  6  7]\n",
            " [ 8  9 10 11]]\n",
            "[ 0  1  2  3  4  5  6  7  8  9 10 11]\n"
          ],
          "name": "stdout"
        }
      ]
    },
    {
      "cell_type": "markdown",
      "metadata": {
        "id": "1gh9G_y-3szI",
        "colab_type": "text"
      },
      "source": [
        "since the underlying data is the same memory, changing an element of one is reflected in the other"
      ]
    },
    {
      "cell_type": "code",
      "metadata": {
        "id": "yCWD3VnH3szJ",
        "colab_type": "code",
        "outputId": "84d5982c-a356-4504-8751-73e7cb12f407",
        "colab": {
          "base_uri": "https://localhost:8080/",
          "height": 69
        }
      },
      "source": [
        "c[1] = -1\n",
        "print(a)"
      ],
      "execution_count": 86,
      "outputs": [
        {
          "output_type": "stream",
          "text": [
            "[[ 0 -1  2  3]\n",
            " [ 4  5  6  7]\n",
            " [ 8  9 10 11]]\n"
          ],
          "name": "stdout"
        }
      ]
    },
    {
      "cell_type": "code",
      "metadata": {
        "id": "HlUAyp4y3szL",
        "colab_type": "code",
        "outputId": "332cd7d3-f023-4272-f7db-579e0735fe49",
        "colab": {
          "base_uri": "https://localhost:8080/",
          "height": 35
        }
      },
      "source": [
        "d = c[3:8]\n",
        "print(d)"
      ],
      "execution_count": 87,
      "outputs": [
        {
          "output_type": "stream",
          "text": [
            "[3 4 5 6 7]\n"
          ],
          "name": "stdout"
        }
      ]
    },
    {
      "cell_type": "code",
      "metadata": {
        "id": "tZkchPoG3szN",
        "colab_type": "code",
        "colab": {}
      },
      "source": [
        "d[:] =0 "
      ],
      "execution_count": 0,
      "outputs": []
    },
    {
      "cell_type": "code",
      "metadata": {
        "id": "YmIUYdDX3szO",
        "colab_type": "code",
        "outputId": "88ba73d3-4a5a-41fa-c197-cd279d05d8cb",
        "colab": {
          "base_uri": "https://localhost:8080/",
          "height": 104
        }
      },
      "source": [
        "print(a)\n",
        "print(c)\n",
        "print(d)"
      ],
      "execution_count": 89,
      "outputs": [
        {
          "output_type": "stream",
          "text": [
            "[[ 0 -1  2  0]\n",
            " [ 0  0  0  0]\n",
            " [ 8  9 10 11]]\n",
            "[ 0 -1  2  0  0  0  0  0  8  9 10 11]\n",
            "[0 0 0 0 0]\n"
          ],
          "name": "stdout"
        }
      ]
    },
    {
      "cell_type": "code",
      "metadata": {
        "id": "ooTPT61w3szR",
        "colab_type": "code",
        "outputId": "77277812-c2c1-4da1-cde8-6211ab278a43",
        "colab": {
          "base_uri": "https://localhost:8080/",
          "height": 87
        }
      },
      "source": [
        "print(c is a)\n",
        "print(c.base is a)\n",
        "print(c.flags.owndata)\n",
        "print(a.flags.owndata)"
      ],
      "execution_count": 90,
      "outputs": [
        {
          "output_type": "stream",
          "text": [
            "False\n",
            "True\n",
            "False\n",
            "True\n"
          ],
          "name": "stdout"
        }
      ]
    },
    {
      "cell_type": "markdown",
      "metadata": {
        "id": "j1w7V0ZD3szT",
        "colab_type": "text"
      },
      "source": [
        "to make a copy of the data of the array that you can deal with independently of the original, you need a deep copy"
      ]
    },
    {
      "cell_type": "code",
      "metadata": {
        "id": "OyDUTaFM3szT",
        "colab_type": "code",
        "outputId": "5e37be23-ae09-4de5-ef6a-13042106ad3f",
        "colab": {
          "base_uri": "https://localhost:8080/",
          "height": 121
        }
      },
      "source": [
        "d = a.copy()\n",
        "d[:,:] = 0.0\n",
        "\n",
        "print(a)\n",
        "print(d)"
      ],
      "execution_count": 91,
      "outputs": [
        {
          "output_type": "stream",
          "text": [
            "[[ 0 -1  2  0]\n",
            " [ 0  0  0  0]\n",
            " [ 8  9 10 11]]\n",
            "[[0 0 0 0]\n",
            " [0 0 0 0]\n",
            " [0 0 0 0]]\n"
          ],
          "name": "stdout"
        }
      ]
    },
    {
      "cell_type": "markdown",
      "metadata": {
        "id": "p0a33Fnj3szV",
        "colab_type": "text"
      },
      "source": [
        "# Boolean Indexing"
      ]
    },
    {
      "cell_type": "code",
      "metadata": {
        "id": "sG3gCwXh3szV",
        "colab_type": "code",
        "outputId": "e6fe28ef-a7db-4433-b7ca-4c6f21b59312",
        "colab": {
          "base_uri": "https://localhost:8080/",
          "height": 69
        }
      },
      "source": [
        "a = np.arange(12).reshape(3,4)\n",
        "a"
      ],
      "execution_count": 54,
      "outputs": [
        {
          "output_type": "execute_result",
          "data": {
            "text/plain": [
              "array([[ 0,  1,  2,  3],\n",
              "       [ 4,  5,  6,  7],\n",
              "       [ 8,  9, 10, 11]])"
            ]
          },
          "metadata": {
            "tags": []
          },
          "execution_count": 54
        }
      ]
    },
    {
      "cell_type": "code",
      "metadata": {
        "id": "NIVuht953szX",
        "colab_type": "code",
        "outputId": "5229e8e1-494b-45d9-8a5a-e68354406fb4",
        "colab": {
          "base_uri": "https://localhost:8080/",
          "height": 69
        }
      },
      "source": [
        "a[a > 4] = 0\n",
        "a"
      ],
      "execution_count": 55,
      "outputs": [
        {
          "output_type": "execute_result",
          "data": {
            "text/plain": [
              "array([[0, 1, 2, 3],\n",
              "       [4, 0, 0, 0],\n",
              "       [0, 0, 0, 0]])"
            ]
          },
          "metadata": {
            "tags": []
          },
          "execution_count": 55
        }
      ]
    },
    {
      "cell_type": "code",
      "metadata": {
        "id": "6HKJcyXr3szY",
        "colab_type": "code",
        "outputId": "634a88ad-d845-4a2e-9c40-9026917272e5",
        "colab": {
          "base_uri": "https://localhost:8080/",
          "height": 69
        }
      },
      "source": [
        "a[a == 0] = -1\n",
        "a"
      ],
      "execution_count": 56,
      "outputs": [
        {
          "output_type": "execute_result",
          "data": {
            "text/plain": [
              "array([[-1,  1,  2,  3],\n",
              "       [ 4, -1, -1, -1],\n",
              "       [-1, -1, -1, -1]])"
            ]
          },
          "metadata": {
            "tags": []
          },
          "execution_count": 56
        }
      ]
    },
    {
      "cell_type": "markdown",
      "metadata": {
        "id": "q9vEFpKL3szZ",
        "colab_type": "text"
      },
      "source": [
        "if we have 2 tests, we need to use `logical_and()` or `logical_or()`"
      ]
    },
    {
      "cell_type": "code",
      "metadata": {
        "id": "eksGlYcm3sza",
        "colab_type": "code",
        "outputId": "a80404fa-d997-48b9-e2b2-2b891a57e6e9",
        "colab": {
          "base_uri": "https://localhost:8080/",
          "height": 69
        }
      },
      "source": [
        "a = np.arange(12).reshape(3,4)\n",
        "a[np.logical_and(a > 3, a <= 9)] = 0.0\n",
        "a"
      ],
      "execution_count": 57,
      "outputs": [
        {
          "output_type": "execute_result",
          "data": {
            "text/plain": [
              "array([[ 0,  1,  2,  3],\n",
              "       [ 0,  0,  0,  0],\n",
              "       [ 0,  0, 10, 11]])"
            ]
          },
          "metadata": {
            "tags": []
          },
          "execution_count": 57
        }
      ]
    },
    {
      "cell_type": "code",
      "metadata": {
        "id": "lzo1MZcd3sza",
        "colab_type": "code",
        "outputId": "fb21972b-c1c1-4272-ab3d-78f329506dfd",
        "colab": {
          "base_uri": "https://localhost:8080/",
          "height": 69
        }
      },
      "source": [
        "a > 4"
      ],
      "execution_count": 58,
      "outputs": [
        {
          "output_type": "execute_result",
          "data": {
            "text/plain": [
              "array([[False, False, False, False],\n",
              "       [False, False, False, False],\n",
              "       [False, False,  True,  True]])"
            ]
          },
          "metadata": {
            "tags": []
          },
          "execution_count": 58
        }
      ]
    },
    {
      "cell_type": "code",
      "metadata": {
        "id": "hHQXaW5F3szb",
        "colab_type": "code",
        "colab": {}
      },
      "source": [
        ""
      ],
      "execution_count": 0,
      "outputs": []
    }
  ]
}